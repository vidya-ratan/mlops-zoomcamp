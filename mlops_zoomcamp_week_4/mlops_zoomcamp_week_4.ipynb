{
  "nbformat": 4,
  "nbformat_minor": 0,
  "metadata": {
    "colab": {
      "provenance": []
    },
    "kernelspec": {
      "name": "python3",
      "display_name": "Python 3"
    },
    "language_info": {
      "name": "python"
    }
  },
  "cells": [
    {
      "cell_type": "code",
      "execution_count": 1,
      "metadata": {
        "colab": {
          "base_uri": "https://localhost:8080/"
        },
        "id": "vKsvr5o58KPR",
        "outputId": "c0c32fd6-a733-4b9e-bc40-3fa0dc4ac4c4"
      },
      "outputs": [
        {
          "output_type": "stream",
          "name": "stdout",
          "text": [
            "scikit-learn==1.2.2\n"
          ]
        }
      ],
      "source": [
        "!pip freeze | grep scikit-learn"
      ]
    },
    {
      "cell_type": "code",
      "source": [
        "import pickle\n",
        "import pandas as pd"
      ],
      "metadata": {
        "id": "aTuFnXHS8qjJ"
      },
      "execution_count": 2,
      "outputs": []
    },
    {
      "cell_type": "code",
      "source": [
        "with open('model.bin', 'rb') as f_in:\n",
        "    dv, model = pickle.load(f_in)"
      ],
      "metadata": {
        "id": "dyNRMXez8vKX"
      },
      "execution_count": 4,
      "outputs": []
    },
    {
      "cell_type": "code",
      "source": [
        "categorical = ['PULocationID', 'DOLocationID']\n",
        "\n",
        "def read_data(filename):\n",
        "    df = pd.read_parquet(filename)\n",
        "\n",
        "    df['duration'] = df.tpep_dropoff_datetime - df.tpep_pickup_datetime\n",
        "    df['duration'] = df.duration.dt.total_seconds() / 60\n",
        "\n",
        "    df = df[(df.duration >= 1) & (df.duration <= 60)].copy()\n",
        "\n",
        "    df[categorical] = df[categorical].fillna(-1).astype('int').astype('str')\n",
        "\n",
        "    return df"
      ],
      "metadata": {
        "id": "NkKaRBBi9GEJ"
      },
      "execution_count": 5,
      "outputs": []
    },
    {
      "cell_type": "code",
      "source": [
        "df = read_data('yellow_tripdata_2022-02.parquet')"
      ],
      "metadata": {
        "id": "MR9uk-em9Md_"
      },
      "execution_count": 6,
      "outputs": []
    },
    {
      "cell_type": "code",
      "source": [
        "dicts = df[categorical].to_dict(orient='records')\n",
        "X_val = dv.transform(dicts)\n",
        "y_pred = model.predict(X_val)"
      ],
      "metadata": {
        "id": "abJDso2F_mai"
      },
      "execution_count": 8,
      "outputs": []
    },
    {
      "cell_type": "code",
      "source": [
        "#std deviation of duration is 5.28\n",
        "import numpy as np\n",
        "\n",
        "std_deviation = np.std(y_pred)\n",
        "std_deviation"
      ],
      "metadata": {
        "colab": {
          "base_uri": "https://localhost:8080/"
        },
        "id": "QXNklp_c-n5X",
        "outputId": "0f75acda-d479-4fb8-e837-0713237a3a18"
      },
      "execution_count": 11,
      "outputs": [
        {
          "output_type": "execute_result",
          "data": {
            "text/plain": [
              "5.28140357655334"
            ]
          },
          "metadata": {},
          "execution_count": 11
        }
      ]
    },
    {
      "cell_type": "code",
      "source": [
        "year = 2022\n",
        "month = 2"
      ],
      "metadata": {
        "id": "19n-n58HE_1b"
      },
      "execution_count": 13,
      "outputs": []
    },
    {
      "cell_type": "code",
      "source": [
        "df['ride_id'] = f'{year:04d}/{month:02d}_' + df.index.astype('str')"
      ],
      "metadata": {
        "id": "sDx1A4wg-p_v"
      },
      "execution_count": 14,
      "outputs": []
    },
    {
      "cell_type": "code",
      "source": [
        "df_result = pd.DataFrame()\n",
        "df_result['ride_id'] = df['ride_id']\n",
        "df_result['predicted_duration'] = y_pred"
      ],
      "metadata": {
        "id": "fPPAyTv3FSOR"
      },
      "execution_count": 22,
      "outputs": []
    },
    {
      "cell_type": "code",
      "source": [
        "taxi_type = 'yellow'\n",
        "output_file = f'{year:04d}-{month:02d}.parquet'"
      ],
      "metadata": {
        "id": "KR47HI-9GHQR"
      },
      "execution_count": 20,
      "outputs": []
    },
    {
      "cell_type": "code",
      "source": [
        "df_result.to_parquet(\n",
        "    output_file,\n",
        "    engine='pyarrow',\n",
        "    compression=None,\n",
        "    index=False\n",
        ")"
      ],
      "metadata": {
        "id": "76eGJhAoFDo9"
      },
      "execution_count": 23,
      "outputs": []
    }
  ]
}