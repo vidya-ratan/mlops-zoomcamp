{
  "nbformat": 4,
  "nbformat_minor": 0,
  "metadata": {
    "colab": {
      "provenance": []
    },
    "kernelspec": {
      "name": "python3",
      "display_name": "Python 3"
    },
    "language_info": {
      "name": "python"
    }
  },
  "cells": [
    {
      "cell_type": "code",
      "source": [
        "!pip install mlflow"
      ],
      "metadata": {
        "colab": {
          "base_uri": "https://localhost:8080/"
        },
        "id": "agN7CBJloxjE",
        "outputId": "62c1fb91-6075-48e8-db4e-acbe4d36cf0d"
      },
      "execution_count": 2,
      "outputs": [
        {
          "output_type": "stream",
          "name": "stdout",
          "text": [
            "Looking in indexes: https://pypi.org/simple, https://us-python.pkg.dev/colab-wheels/public/simple/\n",
            "Collecting mlflow\n",
            "  Downloading mlflow-2.4.1-py3-none-any.whl (18.1 MB)\n",
            "\u001b[2K     \u001b[90m━━━━━━━━━━━━━━━━━━━━━━━━━━━━━━━━━━━━━━━━\u001b[0m \u001b[32m18.1/18.1 MB\u001b[0m \u001b[31m69.0 MB/s\u001b[0m eta \u001b[36m0:00:00\u001b[0m\n",
            "\u001b[?25hRequirement already satisfied: click<9,>=7.0 in /usr/local/lib/python3.10/dist-packages (from mlflow) (8.1.3)\n",
            "Requirement already satisfied: cloudpickle<3 in /usr/local/lib/python3.10/dist-packages (from mlflow) (2.2.1)\n",
            "Collecting databricks-cli<1,>=0.8.7 (from mlflow)\n",
            "  Downloading databricks-cli-0.17.7.tar.gz (83 kB)\n",
            "\u001b[2K     \u001b[90m━━━━━━━━━━━━━━━━━━━━━━━━━━━━━━━━━━━━━━━━\u001b[0m \u001b[32m83.5/83.5 kB\u001b[0m \u001b[31m10.4 MB/s\u001b[0m eta \u001b[36m0:00:00\u001b[0m\n",
            "\u001b[?25h  Preparing metadata (setup.py) ... \u001b[?25l\u001b[?25hdone\n",
            "Requirement already satisfied: entrypoints<1 in /usr/local/lib/python3.10/dist-packages (from mlflow) (0.4)\n",
            "Collecting gitpython<4,>=2.1.0 (from mlflow)\n",
            "  Downloading GitPython-3.1.31-py3-none-any.whl (184 kB)\n",
            "\u001b[2K     \u001b[90m━━━━━━━━━━━━━━━━━━━━━━━━━━━━━━━━━━━━━━\u001b[0m \u001b[32m184.3/184.3 kB\u001b[0m \u001b[31m20.5 MB/s\u001b[0m eta \u001b[36m0:00:00\u001b[0m\n",
            "\u001b[?25hRequirement already satisfied: pyyaml<7,>=5.1 in /usr/local/lib/python3.10/dist-packages (from mlflow) (6.0)\n",
            "Requirement already satisfied: protobuf<5,>=3.12.0 in /usr/local/lib/python3.10/dist-packages (from mlflow) (3.20.3)\n",
            "Requirement already satisfied: pytz<2024 in /usr/local/lib/python3.10/dist-packages (from mlflow) (2022.7.1)\n",
            "Requirement already satisfied: requests<3,>=2.17.3 in /usr/local/lib/python3.10/dist-packages (from mlflow) (2.27.1)\n",
            "Requirement already satisfied: packaging<24 in /usr/local/lib/python3.10/dist-packages (from mlflow) (23.1)\n",
            "Collecting importlib-metadata!=4.7.0,<7,>=3.7.0 (from mlflow)\n",
            "  Downloading importlib_metadata-6.6.0-py3-none-any.whl (22 kB)\n",
            "Requirement already satisfied: sqlparse<1,>=0.4.0 in /usr/local/lib/python3.10/dist-packages (from mlflow) (0.4.4)\n",
            "Collecting alembic!=1.10.0,<2 (from mlflow)\n",
            "  Downloading alembic-1.11.1-py3-none-any.whl (224 kB)\n",
            "\u001b[2K     \u001b[90m━━━━━━━━━━━━━━━━━━━━━━━━━━━━━━━━━━━━━━\u001b[0m \u001b[32m224.5/224.5 kB\u001b[0m \u001b[31m24.8 MB/s\u001b[0m eta \u001b[36m0:00:00\u001b[0m\n",
            "\u001b[?25hCollecting docker<7,>=4.0.0 (from mlflow)\n",
            "  Downloading docker-6.1.3-py3-none-any.whl (148 kB)\n",
            "\u001b[2K     \u001b[90m━━━━━━━━━━━━━━━━━━━━━━━━━━━━━━━━━━━━━━\u001b[0m \u001b[32m148.1/148.1 kB\u001b[0m \u001b[31m17.6 MB/s\u001b[0m eta \u001b[36m0:00:00\u001b[0m\n",
            "\u001b[?25hRequirement already satisfied: Flask<3 in /usr/local/lib/python3.10/dist-packages (from mlflow) (2.2.4)\n",
            "Requirement already satisfied: numpy<2 in /usr/local/lib/python3.10/dist-packages (from mlflow) (1.22.4)\n",
            "Requirement already satisfied: scipy<2 in /usr/local/lib/python3.10/dist-packages (from mlflow) (1.10.1)\n",
            "Requirement already satisfied: pandas<3 in /usr/local/lib/python3.10/dist-packages (from mlflow) (1.5.3)\n",
            "Collecting querystring-parser<2 (from mlflow)\n",
            "  Downloading querystring_parser-1.2.4-py2.py3-none-any.whl (7.9 kB)\n",
            "Requirement already satisfied: sqlalchemy<3,>=1.4.0 in /usr/local/lib/python3.10/dist-packages (from mlflow) (2.0.10)\n",
            "Requirement already satisfied: scikit-learn<2 in /usr/local/lib/python3.10/dist-packages (from mlflow) (1.2.2)\n",
            "Requirement already satisfied: pyarrow<13,>=4.0.0 in /usr/local/lib/python3.10/dist-packages (from mlflow) (9.0.0)\n",
            "Requirement already satisfied: markdown<4,>=3.3 in /usr/local/lib/python3.10/dist-packages (from mlflow) (3.4.3)\n",
            "Requirement already satisfied: matplotlib<4 in /usr/local/lib/python3.10/dist-packages (from mlflow) (3.7.1)\n",
            "Collecting gunicorn<21 (from mlflow)\n",
            "  Downloading gunicorn-20.1.0-py3-none-any.whl (79 kB)\n",
            "\u001b[2K     \u001b[90m━━━━━━━━━━━━━━━━━━━━━━━━━━━━━━━━━━━━━━━━\u001b[0m \u001b[32m79.5/79.5 kB\u001b[0m \u001b[31m8.9 MB/s\u001b[0m eta \u001b[36m0:00:00\u001b[0m\n",
            "\u001b[?25hRequirement already satisfied: Jinja2<4,>=2.11 in /usr/local/lib/python3.10/dist-packages (from mlflow) (3.1.2)\n",
            "Collecting Mako (from alembic!=1.10.0,<2->mlflow)\n",
            "  Downloading Mako-1.2.4-py3-none-any.whl (78 kB)\n",
            "\u001b[2K     \u001b[90m━━━━━━━━━━━━━━━━━━━━━━━━━━━━━━━━━━━━━━━━\u001b[0m \u001b[32m78.7/78.7 kB\u001b[0m \u001b[31m8.7 MB/s\u001b[0m eta \u001b[36m0:00:00\u001b[0m\n",
            "\u001b[?25hRequirement already satisfied: typing-extensions>=4 in /usr/local/lib/python3.10/dist-packages (from alembic!=1.10.0,<2->mlflow) (4.5.0)\n",
            "Collecting pyjwt>=1.7.0 (from databricks-cli<1,>=0.8.7->mlflow)\n",
            "  Downloading PyJWT-2.7.0-py3-none-any.whl (22 kB)\n",
            "Requirement already satisfied: oauthlib>=3.1.0 in /usr/local/lib/python3.10/dist-packages (from databricks-cli<1,>=0.8.7->mlflow) (3.2.2)\n",
            "Requirement already satisfied: tabulate>=0.7.7 in /usr/local/lib/python3.10/dist-packages (from databricks-cli<1,>=0.8.7->mlflow) (0.8.10)\n",
            "Requirement already satisfied: six>=1.10.0 in /usr/local/lib/python3.10/dist-packages (from databricks-cli<1,>=0.8.7->mlflow) (1.16.0)\n",
            "Requirement already satisfied: urllib3<2.0.0,>=1.26.7 in /usr/local/lib/python3.10/dist-packages (from databricks-cli<1,>=0.8.7->mlflow) (1.26.15)\n",
            "Requirement already satisfied: websocket-client>=0.32.0 in /usr/local/lib/python3.10/dist-packages (from docker<7,>=4.0.0->mlflow) (1.5.1)\n",
            "Requirement already satisfied: Werkzeug>=2.2.2 in /usr/local/lib/python3.10/dist-packages (from Flask<3->mlflow) (2.3.0)\n",
            "Requirement already satisfied: itsdangerous>=2.0 in /usr/local/lib/python3.10/dist-packages (from Flask<3->mlflow) (2.1.2)\n",
            "Collecting gitdb<5,>=4.0.1 (from gitpython<4,>=2.1.0->mlflow)\n",
            "  Downloading gitdb-4.0.10-py3-none-any.whl (62 kB)\n",
            "\u001b[2K     \u001b[90m━━━━━━━━━━━━━━━━━━━━━━━━━━━━━━━━━━━━━━━━\u001b[0m \u001b[32m62.7/62.7 kB\u001b[0m \u001b[31m7.3 MB/s\u001b[0m eta \u001b[36m0:00:00\u001b[0m\n",
            "\u001b[?25hRequirement already satisfied: setuptools>=3.0 in /usr/local/lib/python3.10/dist-packages (from gunicorn<21->mlflow) (67.7.2)\n",
            "Requirement already satisfied: zipp>=0.5 in /usr/local/lib/python3.10/dist-packages (from importlib-metadata!=4.7.0,<7,>=3.7.0->mlflow) (3.15.0)\n",
            "Requirement already satisfied: MarkupSafe>=2.0 in /usr/local/lib/python3.10/dist-packages (from Jinja2<4,>=2.11->mlflow) (2.1.2)\n",
            "Requirement already satisfied: contourpy>=1.0.1 in /usr/local/lib/python3.10/dist-packages (from matplotlib<4->mlflow) (1.0.7)\n",
            "Requirement already satisfied: cycler>=0.10 in /usr/local/lib/python3.10/dist-packages (from matplotlib<4->mlflow) (0.11.0)\n",
            "Requirement already satisfied: fonttools>=4.22.0 in /usr/local/lib/python3.10/dist-packages (from matplotlib<4->mlflow) (4.39.3)\n",
            "Requirement already satisfied: kiwisolver>=1.0.1 in /usr/local/lib/python3.10/dist-packages (from matplotlib<4->mlflow) (1.4.4)\n",
            "Requirement already satisfied: pillow>=6.2.0 in /usr/local/lib/python3.10/dist-packages (from matplotlib<4->mlflow) (8.4.0)\n",
            "Requirement already satisfied: pyparsing>=2.3.1 in /usr/local/lib/python3.10/dist-packages (from matplotlib<4->mlflow) (3.0.9)\n",
            "Requirement already satisfied: python-dateutil>=2.7 in /usr/local/lib/python3.10/dist-packages (from matplotlib<4->mlflow) (2.8.2)\n",
            "Requirement already satisfied: certifi>=2017.4.17 in /usr/local/lib/python3.10/dist-packages (from requests<3,>=2.17.3->mlflow) (2022.12.7)\n",
            "Requirement already satisfied: charset-normalizer~=2.0.0 in /usr/local/lib/python3.10/dist-packages (from requests<3,>=2.17.3->mlflow) (2.0.12)\n",
            "Requirement already satisfied: idna<4,>=2.5 in /usr/local/lib/python3.10/dist-packages (from requests<3,>=2.17.3->mlflow) (3.4)\n",
            "Requirement already satisfied: joblib>=1.1.1 in /usr/local/lib/python3.10/dist-packages (from scikit-learn<2->mlflow) (1.2.0)\n",
            "Requirement already satisfied: threadpoolctl>=2.0.0 in /usr/local/lib/python3.10/dist-packages (from scikit-learn<2->mlflow) (3.1.0)\n",
            "Requirement already satisfied: greenlet!=0.4.17 in /usr/local/lib/python3.10/dist-packages (from sqlalchemy<3,>=1.4.0->mlflow) (2.0.2)\n",
            "Collecting smmap<6,>=3.0.1 (from gitdb<5,>=4.0.1->gitpython<4,>=2.1.0->mlflow)\n",
            "  Downloading smmap-5.0.0-py3-none-any.whl (24 kB)\n",
            "Building wheels for collected packages: databricks-cli\n",
            "  Building wheel for databricks-cli (setup.py) ... \u001b[?25l\u001b[?25hdone\n",
            "  Created wheel for databricks-cli: filename=databricks_cli-0.17.7-py3-none-any.whl size=143860 sha256=8a925681a306d1e3801e7947bcfc8f03c790b83d3badbcec2b90b97d7e54f17f\n",
            "  Stored in directory: /root/.cache/pip/wheels/ae/63/93/5402c1a09c1868a59d0b05013484e07af97a9d7b3dbd5bd39a\n",
            "Successfully built databricks-cli\n",
            "Installing collected packages: smmap, querystring-parser, pyjwt, Mako, importlib-metadata, gunicorn, gitdb, docker, databricks-cli, alembic, gitpython, mlflow\n",
            "Successfully installed Mako-1.2.4 alembic-1.11.1 databricks-cli-0.17.7 docker-6.1.3 gitdb-4.0.10 gitpython-3.1.31 gunicorn-20.1.0 importlib-metadata-6.6.0 mlflow-2.4.1 pyjwt-2.7.0 querystring-parser-1.2.4 smmap-5.0.0\n"
          ]
        }
      ]
    },
    {
      "cell_type": "code",
      "source": [
        "!pip install prefect"
      ],
      "metadata": {
        "colab": {
          "base_uri": "https://localhost:8080/"
        },
        "id": "qOm2W8VdtDWH",
        "outputId": "1bda3513-4017-4905-f649-cf860fd3cac5"
      },
      "execution_count": 4,
      "outputs": [
        {
          "output_type": "stream",
          "name": "stdout",
          "text": [
            "Looking in indexes: https://pypi.org/simple, https://us-python.pkg.dev/colab-wheels/public/simple/\n",
            "Collecting prefect\n",
            "  Downloading prefect-2.10.13-py3-none-any.whl (2.4 MB)\n",
            "\u001b[2K     \u001b[90m━━━━━━━━━━━━━━━━━━━━━━━━━━━━━━━━━━━━━━━━\u001b[0m \u001b[32m2.4/2.4 MB\u001b[0m \u001b[31m22.1 MB/s\u001b[0m eta \u001b[36m0:00:00\u001b[0m\n",
            "\u001b[?25hCollecting aiosqlite>=0.17.0 (from prefect)\n",
            "  Downloading aiosqlite-0.19.0-py3-none-any.whl (15 kB)\n",
            "Requirement already satisfied: alembic>=1.7.5 in /usr/local/lib/python3.10/dist-packages (from prefect) (1.11.1)\n",
            "Requirement already satisfied: anyio>=3.4.0 in /usr/local/lib/python3.10/dist-packages (from prefect) (3.6.2)\n",
            "Collecting apprise>=1.1.0 (from prefect)\n",
            "  Downloading apprise-1.4.0-py2.py3-none-any.whl (1.1 MB)\n",
            "\u001b[2K     \u001b[90m━━━━━━━━━━━━━━━━━━━━━━━━━━━━━━━━━━━━━━━━\u001b[0m \u001b[32m1.1/1.1 MB\u001b[0m \u001b[31m66.2 MB/s\u001b[0m eta \u001b[36m0:00:00\u001b[0m\n",
            "\u001b[?25hCollecting asgi-lifespan>=1.0 (from prefect)\n",
            "  Downloading asgi_lifespan-2.1.0-py3-none-any.whl (10 kB)\n",
            "Collecting asyncpg>=0.23 (from prefect)\n",
            "  Downloading asyncpg-0.27.0-cp310-cp310-manylinux_2_17_x86_64.manylinux2014_x86_64.manylinux_2_28_x86_64.whl (2.6 MB)\n",
            "\u001b[2K     \u001b[90m━━━━━━━━━━━━━━━━━━━━━━━━━━━━━━━━━━━━━━━━\u001b[0m \u001b[32m2.6/2.6 MB\u001b[0m \u001b[31m80.8 MB/s\u001b[0m eta \u001b[36m0:00:00\u001b[0m\n",
            "\u001b[?25hRequirement already satisfied: click<8.2,>=8.0 in /usr/local/lib/python3.10/dist-packages (from prefect) (8.1.3)\n",
            "Requirement already satisfied: cloudpickle>=2.0 in /usr/local/lib/python3.10/dist-packages (from prefect) (2.2.1)\n",
            "Collecting coolname>=1.0.4 (from prefect)\n",
            "  Downloading coolname-2.2.0-py2.py3-none-any.whl (37 kB)\n",
            "Collecting croniter>=1.0.12 (from prefect)\n",
            "  Downloading croniter-1.3.15-py2.py3-none-any.whl (19 kB)\n",
            "Requirement already satisfied: cryptography>=36.0.1 in /usr/local/lib/python3.10/dist-packages (from prefect) (40.0.2)\n",
            "Collecting dateparser>=1.1.1 (from prefect)\n",
            "  Downloading dateparser-1.1.8-py2.py3-none-any.whl (293 kB)\n",
            "\u001b[2K     \u001b[90m━━━━━━━━━━━━━━━━━━━━━━━━━━━━━━━━━━━━━━\u001b[0m \u001b[32m293.8/293.8 kB\u001b[0m \u001b[31m30.0 MB/s\u001b[0m eta \u001b[36m0:00:00\u001b[0m\n",
            "\u001b[?25hRequirement already satisfied: docker>=4.0 in /usr/local/lib/python3.10/dist-packages (from prefect) (6.1.3)\n",
            "Collecting fastapi>=0.93 (from prefect)\n",
            "  Downloading fastapi-0.96.0-py3-none-any.whl (57 kB)\n",
            "\u001b[2K     \u001b[90m━━━━━━━━━━━━━━━━━━━━━━━━━━━━━━━━━━━━━━━━\u001b[0m \u001b[32m57.1/57.1 kB\u001b[0m \u001b[31m6.7 MB/s\u001b[0m eta \u001b[36m0:00:00\u001b[0m\n",
            "\u001b[?25hRequirement already satisfied: fsspec>=2022.5.0 in /usr/local/lib/python3.10/dist-packages (from prefect) (2023.4.0)\n",
            "Collecting griffe>=0.20.0 (from prefect)\n",
            "  Downloading griffe-0.29.0-py3-none-any.whl (92 kB)\n",
            "\u001b[2K     \u001b[90m━━━━━━━━━━━━━━━━━━━━━━━━━━━━━━━━━━━━━━━━\u001b[0m \u001b[32m92.6/92.6 kB\u001b[0m \u001b[31m10.8 MB/s\u001b[0m eta \u001b[36m0:00:00\u001b[0m\n",
            "\u001b[?25hCollecting httpx[http2]!=0.23.2,>=0.23 (from prefect)\n",
            "  Downloading httpx-0.24.1-py3-none-any.whl (75 kB)\n",
            "\u001b[2K     \u001b[90m━━━━━━━━━━━━━━━━━━━━━━━━━━━━━━━━━━━━━━━━\u001b[0m \u001b[32m75.4/75.4 kB\u001b[0m \u001b[31m6.9 MB/s\u001b[0m eta \u001b[36m0:00:00\u001b[0m\n",
            "\u001b[?25hRequirement already satisfied: jinja2>=3.0.0 in /usr/local/lib/python3.10/dist-packages (from prefect) (3.1.2)\n",
            "Collecting jsonpatch>=1.32 (from prefect)\n",
            "  Downloading jsonpatch-1.32-py2.py3-none-any.whl (12 kB)\n",
            "Requirement already satisfied: jsonschema<5.0.0,>=3.2.0 in /usr/local/lib/python3.10/dist-packages (from prefect) (4.3.3)\n",
            "Collecting kubernetes>=24.2.0 (from prefect)\n",
            "  Downloading kubernetes-26.1.0-py2.py3-none-any.whl (1.4 MB)\n",
            "\u001b[2K     \u001b[90m━━━━━━━━━━━━━━━━━━━━━━━━━━━━━━━━━━━━━━━━\u001b[0m \u001b[32m1.4/1.4 MB\u001b[0m \u001b[31m74.1 MB/s\u001b[0m eta \u001b[36m0:00:00\u001b[0m\n",
            "\u001b[?25hCollecting orjson>=3.7 (from prefect)\n",
            "  Downloading orjson-3.9.1-cp310-cp310-manylinux_2_17_x86_64.manylinux2014_x86_64.whl (136 kB)\n",
            "\u001b[2K     \u001b[90m━━━━━━━━━━━━━━━━━━━━━━━━━━━━━━━━━━━━━━\u001b[0m \u001b[32m137.0/137.0 kB\u001b[0m \u001b[31m15.7 MB/s\u001b[0m eta \u001b[36m0:00:00\u001b[0m\n",
            "\u001b[?25hRequirement already satisfied: packaging>=21.3 in /usr/local/lib/python3.10/dist-packages (from prefect) (23.1)\n",
            "Collecting pathspec>=0.8.0 (from prefect)\n",
            "  Downloading pathspec-0.11.1-py3-none-any.whl (29 kB)\n",
            "Collecting pendulum>=2.1.2 (from prefect)\n",
            "  Downloading pendulum-2.1.2.tar.gz (81 kB)\n",
            "\u001b[2K     \u001b[90m━━━━━━━━━━━━━━━━━━━━━━━━━━━━━━━━━━━━━━━━\u001b[0m \u001b[32m81.2/81.2 kB\u001b[0m \u001b[31m9.6 MB/s\u001b[0m eta \u001b[36m0:00:00\u001b[0m\n",
            "\u001b[?25h  Installing build dependencies ... \u001b[?25l\u001b[?25hdone\n",
            "  Getting requirements to build wheel ... \u001b[?25l\u001b[?25hdone\n",
            "  Preparing metadata (pyproject.toml) ... \u001b[?25l\u001b[?25hdone\n",
            "Requirement already satisfied: pydantic>=1.10.0 in /usr/local/lib/python3.10/dist-packages (from prefect) (1.10.7)\n",
            "Requirement already satisfied: python-slugify>=5.0 in /usr/local/lib/python3.10/dist-packages (from prefect) (8.0.1)\n",
            "Requirement already satisfied: pytz>=2021.1 in /usr/local/lib/python3.10/dist-packages (from prefect) (2022.7.1)\n",
            "Requirement already satisfied: pyyaml>=5.4.1 in /usr/local/lib/python3.10/dist-packages (from prefect) (6.0)\n",
            "Collecting readchar>=4.0.0 (from prefect)\n",
            "  Downloading readchar-4.0.5-py3-none-any.whl (8.5 kB)\n",
            "Requirement already satisfied: rich>=11.0 in /usr/local/lib/python3.10/dist-packages (from prefect) (13.3.4)\n",
            "Requirement already satisfied: sqlalchemy[asyncio]!=1.4.33,>=1.4.22 in /usr/local/lib/python3.10/dist-packages (from prefect) (2.0.10)\n",
            "Requirement already satisfied: toml>=0.10.0 in /usr/local/lib/python3.10/dist-packages (from prefect) (0.10.2)\n",
            "Requirement already satisfied: typer>=0.4.2 in /usr/local/lib/python3.10/dist-packages (from prefect) (0.7.0)\n",
            "Requirement already satisfied: typing-extensions>=4.1.0 in /usr/local/lib/python3.10/dist-packages (from prefect) (4.5.0)\n",
            "Collecting uvicorn>=0.14.0 (from prefect)\n",
            "  Downloading uvicorn-0.22.0-py3-none-any.whl (58 kB)\n",
            "\u001b[2K     \u001b[90m━━━━━━━━━━━━━━━━━━━━━━━━━━━━━━━━━━━━━━━━\u001b[0m \u001b[32m58.3/58.3 kB\u001b[0m \u001b[31m8.0 MB/s\u001b[0m eta \u001b[36m0:00:00\u001b[0m\n",
            "\u001b[?25hCollecting websockets>=10.4 (from prefect)\n",
            "  Downloading websockets-11.0.3-cp310-cp310-manylinux_2_5_x86_64.manylinux1_x86_64.manylinux_2_17_x86_64.manylinux2014_x86_64.whl (129 kB)\n",
            "\u001b[2K     \u001b[90m━━━━━━━━━━━━━━━━━━━━━━━━━━━━━━━━━━━━━━\u001b[0m \u001b[32m129.9/129.9 kB\u001b[0m \u001b[31m16.8 MB/s\u001b[0m eta \u001b[36m0:00:00\u001b[0m\n",
            "\u001b[?25hRequirement already satisfied: Mako in /usr/local/lib/python3.10/dist-packages (from alembic>=1.7.5->prefect) (1.2.4)\n",
            "Requirement already satisfied: idna>=2.8 in /usr/local/lib/python3.10/dist-packages (from anyio>=3.4.0->prefect) (3.4)\n",
            "Requirement already satisfied: sniffio>=1.1 in /usr/local/lib/python3.10/dist-packages (from anyio>=3.4.0->prefect) (1.3.0)\n",
            "Requirement already satisfied: certifi in /usr/local/lib/python3.10/dist-packages (from apprise>=1.1.0->prefect) (2022.12.7)\n",
            "Requirement already satisfied: requests in /usr/local/lib/python3.10/dist-packages (from apprise>=1.1.0->prefect) (2.27.1)\n",
            "Requirement already satisfied: requests-oauthlib in /usr/local/lib/python3.10/dist-packages (from apprise>=1.1.0->prefect) (1.3.1)\n",
            "Requirement already satisfied: markdown in /usr/local/lib/python3.10/dist-packages (from apprise>=1.1.0->prefect) (3.4.3)\n",
            "Requirement already satisfied: python-dateutil in /usr/local/lib/python3.10/dist-packages (from croniter>=1.0.12->prefect) (2.8.2)\n",
            "Requirement already satisfied: cffi>=1.12 in /usr/local/lib/python3.10/dist-packages (from cryptography>=36.0.1->prefect) (1.15.1)\n",
            "Requirement already satisfied: regex!=2019.02.19,!=2021.8.27 in /usr/local/lib/python3.10/dist-packages (from dateparser>=1.1.1->prefect) (2022.10.31)\n",
            "Requirement already satisfied: tzlocal in /usr/local/lib/python3.10/dist-packages (from dateparser>=1.1.1->prefect) (4.3)\n",
            "Requirement already satisfied: urllib3>=1.26.0 in /usr/local/lib/python3.10/dist-packages (from docker>=4.0->prefect) (1.26.15)\n",
            "Requirement already satisfied: websocket-client>=0.32.0 in /usr/local/lib/python3.10/dist-packages (from docker>=4.0->prefect) (1.5.1)\n",
            "Collecting starlette<0.28.0,>=0.27.0 (from fastapi>=0.93->prefect)\n",
            "  Downloading starlette-0.27.0-py3-none-any.whl (66 kB)\n",
            "\u001b[2K     \u001b[90m━━━━━━━━━━━━━━━━━━━━━━━━━━━━━━━━━━━━━━━━\u001b[0m \u001b[32m67.0/67.0 kB\u001b[0m \u001b[31m8.1 MB/s\u001b[0m eta \u001b[36m0:00:00\u001b[0m\n",
            "\u001b[?25hCollecting colorama>=0.4 (from griffe>=0.20.0->prefect)\n",
            "  Downloading colorama-0.4.6-py2.py3-none-any.whl (25 kB)\n",
            "Collecting httpcore<0.18.0,>=0.15.0 (from httpx[http2]!=0.23.2,>=0.23->prefect)\n",
            "  Downloading httpcore-0.17.2-py3-none-any.whl (72 kB)\n",
            "\u001b[2K     \u001b[90m━━━━━━━━━━━━━━━━━━━━━━━━━━━━━━━━━━━━━━━━\u001b[0m \u001b[32m72.5/72.5 kB\u001b[0m \u001b[31m8.6 MB/s\u001b[0m eta \u001b[36m0:00:00\u001b[0m\n",
            "\u001b[?25hCollecting h2<5,>=3 (from httpx[http2]!=0.23.2,>=0.23->prefect)\n",
            "  Downloading h2-4.1.0-py3-none-any.whl (57 kB)\n",
            "\u001b[2K     \u001b[90m━━━━━━━━━━━━━━━━━━━━━━━━━━━━━━━━━━━━━━━━\u001b[0m \u001b[32m57.5/57.5 kB\u001b[0m \u001b[31m7.8 MB/s\u001b[0m eta \u001b[36m0:00:00\u001b[0m\n",
            "\u001b[?25hRequirement already satisfied: MarkupSafe>=2.0 in /usr/local/lib/python3.10/dist-packages (from jinja2>=3.0.0->prefect) (2.1.2)\n",
            "Collecting jsonpointer>=1.9 (from jsonpatch>=1.32->prefect)\n",
            "  Downloading jsonpointer-2.3-py2.py3-none-any.whl (7.8 kB)\n",
            "Requirement already satisfied: attrs>=17.4.0 in /usr/local/lib/python3.10/dist-packages (from jsonschema<5.0.0,>=3.2.0->prefect) (23.1.0)\n",
            "Requirement already satisfied: pyrsistent!=0.17.0,!=0.17.1,!=0.17.2,>=0.14.0 in /usr/local/lib/python3.10/dist-packages (from jsonschema<5.0.0,>=3.2.0->prefect) (0.19.3)\n",
            "Requirement already satisfied: six>=1.9.0 in /usr/local/lib/python3.10/dist-packages (from kubernetes>=24.2.0->prefect) (1.16.0)\n",
            "Requirement already satisfied: setuptools>=21.0.0 in /usr/local/lib/python3.10/dist-packages (from kubernetes>=24.2.0->prefect) (67.7.2)\n",
            "Requirement already satisfied: google-auth>=1.0.1 in /usr/local/lib/python3.10/dist-packages (from kubernetes>=24.2.0->prefect) (2.17.3)\n",
            "Collecting pytzdata>=2020.1 (from pendulum>=2.1.2->prefect)\n",
            "  Downloading pytzdata-2020.1-py2.py3-none-any.whl (489 kB)\n",
            "\u001b[2K     \u001b[90m━━━━━━━━━━━━━━━━━━━━━━━━━━━━━━━━━━━━━━\u001b[0m \u001b[32m490.0/490.0 kB\u001b[0m \u001b[31m41.4 MB/s\u001b[0m eta \u001b[36m0:00:00\u001b[0m\n",
            "\u001b[?25hRequirement already satisfied: text-unidecode>=1.3 in /usr/local/lib/python3.10/dist-packages (from python-slugify>=5.0->prefect) (1.3)\n",
            "Requirement already satisfied: markdown-it-py<3.0.0,>=2.2.0 in /usr/local/lib/python3.10/dist-packages (from rich>=11.0->prefect) (2.2.0)\n",
            "Requirement already satisfied: pygments<3.0.0,>=2.13.0 in /usr/local/lib/python3.10/dist-packages (from rich>=11.0->prefect) (2.14.0)\n",
            "Requirement already satisfied: greenlet!=0.4.17 in /usr/local/lib/python3.10/dist-packages (from sqlalchemy[asyncio]!=1.4.33,>=1.4.22->prefect) (2.0.2)\n",
            "Collecting h11>=0.8 (from uvicorn>=0.14.0->prefect)\n",
            "  Downloading h11-0.14.0-py3-none-any.whl (58 kB)\n",
            "\u001b[2K     \u001b[90m━━━━━━━━━━━━━━━━━━━━━━━━━━━━━━━━━━━━━━━━\u001b[0m \u001b[32m58.3/58.3 kB\u001b[0m \u001b[31m8.6 MB/s\u001b[0m eta \u001b[36m0:00:00\u001b[0m\n",
            "\u001b[?25hRequirement already satisfied: pycparser in /usr/local/lib/python3.10/dist-packages (from cffi>=1.12->cryptography>=36.0.1->prefect) (2.21)\n",
            "Requirement already satisfied: cachetools<6.0,>=2.0.0 in /usr/local/lib/python3.10/dist-packages (from google-auth>=1.0.1->kubernetes>=24.2.0->prefect) (5.3.0)\n",
            "Requirement already satisfied: pyasn1-modules>=0.2.1 in /usr/local/lib/python3.10/dist-packages (from google-auth>=1.0.1->kubernetes>=24.2.0->prefect) (0.3.0)\n",
            "Requirement already satisfied: rsa<5,>=3.1.4 in /usr/local/lib/python3.10/dist-packages (from google-auth>=1.0.1->kubernetes>=24.2.0->prefect) (4.9)\n",
            "Collecting hyperframe<7,>=6.0 (from h2<5,>=3->httpx[http2]!=0.23.2,>=0.23->prefect)\n",
            "  Downloading hyperframe-6.0.1-py3-none-any.whl (12 kB)\n",
            "Collecting hpack<5,>=4.0 (from h2<5,>=3->httpx[http2]!=0.23.2,>=0.23->prefect)\n",
            "  Downloading hpack-4.0.0-py3-none-any.whl (32 kB)\n",
            "Requirement already satisfied: mdurl~=0.1 in /usr/local/lib/python3.10/dist-packages (from markdown-it-py<3.0.0,>=2.2.0->rich>=11.0->prefect) (0.1.2)\n",
            "Requirement already satisfied: charset-normalizer~=2.0.0 in /usr/local/lib/python3.10/dist-packages (from requests->apprise>=1.1.0->prefect) (2.0.12)\n",
            "Requirement already satisfied: oauthlib>=3.0.0 in /usr/local/lib/python3.10/dist-packages (from requests-oauthlib->apprise>=1.1.0->prefect) (3.2.2)\n",
            "Requirement already satisfied: pytz-deprecation-shim in /usr/local/lib/python3.10/dist-packages (from tzlocal->dateparser>=1.1.1->prefect) (0.1.0.post0)\n",
            "Requirement already satisfied: pyasn1<0.6.0,>=0.4.6 in /usr/local/lib/python3.10/dist-packages (from pyasn1-modules>=0.2.1->google-auth>=1.0.1->kubernetes>=24.2.0->prefect) (0.5.0)\n",
            "Requirement already satisfied: tzdata in /usr/local/lib/python3.10/dist-packages (from pytz-deprecation-shim->tzlocal->dateparser>=1.1.1->prefect) (2023.3)\n",
            "Building wheels for collected packages: pendulum\n",
            "  Building wheel for pendulum (pyproject.toml) ... \u001b[?25l\u001b[?25hdone\n",
            "  Created wheel for pendulum: filename=pendulum-2.1.2-cp310-cp310-manylinux_2_31_x86_64.whl size=168866 sha256=fde5f78dcf4a770873af0d4941078a4930325be167bc0cd1ecfc2ae72e93d319\n",
            "  Stored in directory: /root/.cache/pip/wheels/2e/41/ed/f113e4c9dc10f6c846d69f412e9cd9aa429960a3e2e485a4f9\n",
            "Successfully built pendulum\n",
            "Installing collected packages: coolname, websockets, readchar, pytzdata, pathspec, orjson, jsonpointer, hyperframe, hpack, h11, colorama, asyncpg, asgi-lifespan, aiosqlite, uvicorn, starlette, pendulum, jsonpatch, httpcore, h2, griffe, croniter, kubernetes, httpx, fastapi, dateparser, apprise, prefect\n",
            "Successfully installed aiosqlite-0.19.0 apprise-1.4.0 asgi-lifespan-2.1.0 asyncpg-0.27.0 colorama-0.4.6 coolname-2.2.0 croniter-1.3.15 dateparser-1.1.8 fastapi-0.96.0 griffe-0.29.0 h11-0.14.0 h2-4.1.0 hpack-4.0.0 httpcore-0.17.2 httpx-0.24.1 hyperframe-6.0.1 jsonpatch-1.32 jsonpointer-2.3 kubernetes-26.1.0 orjson-3.9.1 pathspec-0.11.1 pendulum-2.1.2 prefect-2.10.13 pytzdata-2020.1 readchar-4.0.5 starlette-0.27.0 uvicorn-0.22.0 websockets-11.0.3\n"
          ]
        }
      ]
    },
    {
      "cell_type": "code",
      "execution_count": 5,
      "metadata": {
        "colab": {
          "base_uri": "https://localhost:8080/",
          "height": 1000
        },
        "id": "L5FN7N-VoAGq",
        "outputId": "c3bdeddf-08ae-41f8-a0e3-728cf22c2b72"
      },
      "outputs": [
        {
          "output_type": "stream",
          "name": "stderr",
          "text": [
            "/usr/lib/python3.10/contextlib.py:142: SAWarning: Skipped unsupported reflection of expression-based index ix_flow_run__coalesce_start_time_expected_start_time_desc\n",
            "  next(self.gen)\n",
            "/usr/lib/python3.10/contextlib.py:142: SAWarning: Skipped unsupported reflection of expression-based index ix_flow_run__coalesce_start_time_expected_start_time_asc\n",
            "  next(self.gen)\n"
          ]
        },
        {
          "output_type": "display_data",
          "data": {
            "text/plain": [
              "19:08:03.827 | \u001b[36mINFO\u001b[0m    | prefect.engine - Created flow run\u001b[35m 'hasty-lobster'\u001b[0m for flow\u001b[1;35m 'main-flow'\u001b[0m\n"
            ],
            "text/html": [
              "<pre style=\"white-space:pre;overflow-x:auto;line-height:normal;font-family:Menlo,'DejaVu Sans Mono',consolas,'Courier New',monospace\">19:08:03.827 | <span style=\"color: #008080; text-decoration-color: #008080\">INFO</span>    | prefect.engine - Created flow run<span style=\"color: #800080; text-decoration-color: #800080\"> 'hasty-lobster'</span> for flow<span style=\"color: #800080; text-decoration-color: #800080; font-weight: bold\"> 'main-flow'</span>\n",
              "</pre>\n"
            ]
          },
          "metadata": {}
        },
        {
          "output_type": "stream",
          "name": "stderr",
          "text": [
            "2023/06/10 19:08:04 INFO mlflow.store.db.utils: Creating initial MLflow database tables...\n",
            "2023/06/10 19:08:04 INFO mlflow.store.db.utils: Updating database tables\n",
            "INFO  [alembic.runtime.migration] Context impl SQLiteImpl.\n",
            "INFO  [alembic.runtime.migration] Will assume non-transactional DDL.\n",
            "INFO  [alembic.runtime.migration] Running upgrade  -> 451aebb31d03, add metric step\n",
            "INFO  [alembic.runtime.migration] Running upgrade 451aebb31d03 -> 90e64c465722, migrate user column to tags\n",
            "INFO  [alembic.runtime.migration] Running upgrade 90e64c465722 -> 181f10493468, allow nulls for metric values\n",
            "INFO  [alembic.runtime.migration] Running upgrade 181f10493468 -> df50e92ffc5e, Add Experiment Tags Table\n",
            "INFO  [alembic.runtime.migration] Running upgrade df50e92ffc5e -> 7ac759974ad8, Update run tags with larger limit\n",
            "INFO  [alembic.runtime.migration] Running upgrade 7ac759974ad8 -> 89d4b8295536, create latest metrics table\n",
            "INFO  [89d4b8295536_create_latest_metrics_table_py] Migration complete!\n",
            "INFO  [alembic.runtime.migration] Running upgrade 89d4b8295536 -> 2b4d017a5e9b, add model registry tables to db\n",
            "INFO  [2b4d017a5e9b_add_model_registry_tables_to_db_py] Adding registered_models and model_versions tables to database.\n",
            "INFO  [2b4d017a5e9b_add_model_registry_tables_to_db_py] Migration complete!\n",
            "INFO  [alembic.runtime.migration] Running upgrade 2b4d017a5e9b -> cfd24bdc0731, Update run status constraint with killed\n",
            "INFO  [alembic.runtime.migration] Running upgrade cfd24bdc0731 -> 0a8213491aaa, drop_duplicate_killed_constraint\n",
            "INFO  [alembic.runtime.migration] Running upgrade 0a8213491aaa -> 728d730b5ebd, add registered model tags table\n",
            "INFO  [alembic.runtime.migration] Running upgrade 728d730b5ebd -> 27a6a02d2cf1, add model version tags table\n",
            "INFO  [alembic.runtime.migration] Running upgrade 27a6a02d2cf1 -> 84291f40a231, add run_link to model_version\n",
            "INFO  [alembic.runtime.migration] Running upgrade 84291f40a231 -> a8c4a736bde6, allow nulls for run_id\n",
            "INFO  [alembic.runtime.migration] Running upgrade a8c4a736bde6 -> 39d1c3be5f05, add_is_nan_constraint_for_metrics_tables_if_necessary\n",
            "INFO  [alembic.runtime.migration] Running upgrade 39d1c3be5f05 -> c48cb773bb87, reset_default_value_for_is_nan_in_metrics_table_for_mysql\n",
            "INFO  [alembic.runtime.migration] Running upgrade c48cb773bb87 -> bd07f7e963c5, create index on run_uuid\n",
            "INFO  [alembic.runtime.migration] Running upgrade bd07f7e963c5 -> 0c779009ac13, add deleted_time field to runs table\n",
            "INFO  [alembic.runtime.migration] Running upgrade 0c779009ac13 -> cc1f77228345, change param value length to 500\n",
            "INFO  [alembic.runtime.migration] Running upgrade cc1f77228345 -> 97727af70f4d, Add creation_time and last_update_time to experiments table\n",
            "INFO  [alembic.runtime.migration] Running upgrade 97727af70f4d -> 3500859a5d39, Add Model Aliases table\n",
            "INFO  [alembic.runtime.migration] Running upgrade 3500859a5d39 -> 7f2a7d5fae7d, add datasets inputs input_tags tables\n",
            "INFO  [alembic.runtime.migration] Context impl SQLiteImpl.\n",
            "INFO  [alembic.runtime.migration] Will assume non-transactional DDL.\n",
            "2023/06/10 19:08:05 INFO mlflow.tracking.fluent: Experiment with name 'nyc-taxi-experiment' does not exist. Creating a new experiment.\n",
            "INFO  [prefect.flow_runs] Created task run 'read_data-0' for task 'read_data'\n",
            "INFO  [prefect.flow_runs] Executing 'read_data-0' immediately...\n",
            "INFO  [prefect.task_runs] Finished in state Completed()\n",
            "INFO  [prefect.flow_runs] Created task run 'read_data-1' for task 'read_data'\n",
            "INFO  [prefect.flow_runs] Executing 'read_data-1' immediately...\n",
            "INFO  [prefect.task_runs] Finished in state Completed()\n",
            "INFO  [prefect.flow_runs] Created task run 'add_features-0' for task 'add_features'\n",
            "INFO  [prefect.flow_runs] Executing 'add_features-0' immediately...\n",
            "INFO  [prefect.task_runs] Finished in state Completed()\n",
            "INFO  [prefect.flow_runs] Created task run 'train_best_model-0' for task 'train_best_model'\n",
            "INFO  [prefect.flow_runs] Executing 'train_best_model-0' immediately...\n",
            "INFO  [prefect.task_runs] [0]\tvalidation-rmse:15.01627\n",
            "INFO  [prefect.task_runs] [1]\tvalidation-rmse:13.77591\n",
            "INFO  [prefect.task_runs] [2]\tvalidation-rmse:12.66953\n",
            "INFO  [prefect.task_runs] [3]\tvalidation-rmse:11.68972\n",
            "INFO  [prefect.task_runs] [4]\tvalidation-rmse:10.81927\n",
            "INFO  [prefect.task_runs] [5]\tvalidation-rmse:10.05352\n",
            "INFO  [prefect.task_runs] [6]\tvalidation-rmse:9.37638\n",
            "INFO  [prefect.task_runs] [7]\tvalidation-rmse:8.78514\n",
            "INFO  [prefect.task_runs] [8]\tvalidation-rmse:8.26684\n",
            "INFO  [prefect.task_runs] [9]\tvalidation-rmse:7.81889\n",
            "INFO  [prefect.task_runs] [10]\tvalidation-rmse:7.42994\n",
            "INFO  [prefect.task_runs] [11]\tvalidation-rmse:7.09348\n",
            "INFO  [prefect.task_runs] [12]\tvalidation-rmse:6.80836\n",
            "INFO  [prefect.task_runs] [13]\tvalidation-rmse:6.56211\n",
            "INFO  [prefect.task_runs] [14]\tvalidation-rmse:6.35332\n",
            "INFO  [prefect.task_runs] [15]\tvalidation-rmse:6.17838\n",
            "INFO  [prefect.task_runs] [16]\tvalidation-rmse:6.02763\n",
            "INFO  [prefect.task_runs] [17]\tvalidation-rmse:5.90232\n",
            "INFO  [prefect.task_runs] [18]\tvalidation-rmse:5.79691\n",
            "INFO  [prefect.task_runs] [19]\tvalidation-rmse:5.70817\n",
            "INFO  [prefect.task_runs] [20]\tvalidation-rmse:5.63182\n",
            "INFO  [prefect.task_runs] [21]\tvalidation-rmse:5.56852\n",
            "INFO  [prefect.task_runs] [22]\tvalidation-rmse:5.51520\n",
            "INFO  [prefect.task_runs] [23]\tvalidation-rmse:5.47115\n",
            "INFO  [prefect.task_runs] [24]\tvalidation-rmse:5.43421\n",
            "INFO  [prefect.task_runs] [25]\tvalidation-rmse:5.40206\n",
            "INFO  [prefect.task_runs] [26]\tvalidation-rmse:5.37653\n",
            "INFO  [prefect.task_runs] [27]\tvalidation-rmse:5.35308\n",
            "INFO  [prefect.task_runs] [28]\tvalidation-rmse:5.33437\n",
            "INFO  [prefect.task_runs] [29]\tvalidation-rmse:5.31842\n",
            "INFO  [prefect.task_runs] [30]\tvalidation-rmse:5.30434\n",
            "INFO  [prefect.task_runs] [31]\tvalidation-rmse:5.29293\n",
            "INFO  [prefect.task_runs] [32]\tvalidation-rmse:5.28270\n",
            "INFO  [prefect.task_runs] [33]\tvalidation-rmse:5.27307\n",
            "INFO  [prefect.task_runs] [34]\tvalidation-rmse:5.26638\n",
            "INFO  [prefect.task_runs] [35]\tvalidation-rmse:5.26043\n",
            "INFO  [prefect.task_runs] [36]\tvalidation-rmse:5.25512\n",
            "INFO  [prefect.task_runs] [37]\tvalidation-rmse:5.25088\n",
            "INFO  [prefect.task_runs] [38]\tvalidation-rmse:5.24664\n",
            "INFO  [prefect.task_runs] [39]\tvalidation-rmse:5.24209\n",
            "INFO  [prefect.task_runs] [40]\tvalidation-rmse:5.23909\n",
            "INFO  [prefect.task_runs] [41]\tvalidation-rmse:5.23607\n",
            "INFO  [prefect.task_runs] [42]\tvalidation-rmse:5.23344\n",
            "INFO  [prefect.task_runs] [43]\tvalidation-rmse:5.23200\n",
            "INFO  [prefect.task_runs] [44]\tvalidation-rmse:5.23097\n",
            "INFO  [prefect.task_runs] [45]\tvalidation-rmse:5.22865\n",
            "INFO  [prefect.task_runs] [46]\tvalidation-rmse:5.22775\n",
            "INFO  [prefect.task_runs] [47]\tvalidation-rmse:5.22687\n",
            "INFO  [prefect.task_runs] [48]\tvalidation-rmse:5.22582\n",
            "INFO  [prefect.task_runs] [49]\tvalidation-rmse:5.22487\n",
            "INFO  [prefect.task_runs] [50]\tvalidation-rmse:5.22442\n",
            "INFO  [prefect.task_runs] [51]\tvalidation-rmse:5.22332\n",
            "INFO  [prefect.task_runs] [52]\tvalidation-rmse:5.22236\n",
            "INFO  [prefect.task_runs] [53]\tvalidation-rmse:5.22142\n",
            "INFO  [prefect.task_runs] [54]\tvalidation-rmse:5.22022\n",
            "INFO  [prefect.task_runs] [55]\tvalidation-rmse:5.21987\n",
            "INFO  [prefect.task_runs] [56]\tvalidation-rmse:5.21908\n",
            "INFO  [prefect.task_runs] [57]\tvalidation-rmse:5.21873\n",
            "INFO  [prefect.task_runs] [58]\tvalidation-rmse:5.21820\n",
            "INFO  [prefect.task_runs] [59]\tvalidation-rmse:5.21787\n",
            "INFO  [prefect.task_runs] [60]\tvalidation-rmse:5.21702\n",
            "INFO  [prefect.task_runs] [61]\tvalidation-rmse:5.21632\n",
            "INFO  [prefect.task_runs] [62]\tvalidation-rmse:5.21571\n",
            "INFO  [prefect.task_runs] [63]\tvalidation-rmse:5.21404\n",
            "INFO  [prefect.task_runs] [64]\tvalidation-rmse:5.21348\n",
            "INFO  [prefect.task_runs] [65]\tvalidation-rmse:5.21290\n",
            "INFO  [prefect.task_runs] [66]\tvalidation-rmse:5.21262\n",
            "INFO  [prefect.task_runs] [67]\tvalidation-rmse:5.21181\n",
            "INFO  [prefect.task_runs] [68]\tvalidation-rmse:5.21179\n",
            "INFO  [prefect.task_runs] [69]\tvalidation-rmse:5.21113\n",
            "INFO  [prefect.task_runs] [70]\tvalidation-rmse:5.21051\n",
            "INFO  [prefect.task_runs] [71]\tvalidation-rmse:5.21000\n",
            "INFO  [prefect.task_runs] [72]\tvalidation-rmse:5.20944\n",
            "INFO  [prefect.task_runs] [73]\tvalidation-rmse:5.20928\n",
            "INFO  [prefect.task_runs] [74]\tvalidation-rmse:5.20890\n",
            "INFO  [prefect.task_runs] [75]\tvalidation-rmse:5.20840\n",
            "INFO  [prefect.task_runs] [76]\tvalidation-rmse:5.20723\n",
            "INFO  [prefect.task_runs] [77]\tvalidation-rmse:5.20677\n",
            "INFO  [prefect.task_runs] [78]\tvalidation-rmse:5.20653\n",
            "INFO  [prefect.task_runs] [79]\tvalidation-rmse:5.20608\n",
            "INFO  [prefect.task_runs] [80]\tvalidation-rmse:5.20599\n",
            "INFO  [prefect.task_runs] [81]\tvalidation-rmse:5.20558\n",
            "INFO  [prefect.task_runs] [82]\tvalidation-rmse:5.20516\n",
            "INFO  [prefect.task_runs] [83]\tvalidation-rmse:5.20428\n",
            "INFO  [prefect.task_runs] [84]\tvalidation-rmse:5.20377\n",
            "INFO  [prefect.task_runs] [85]\tvalidation-rmse:5.20323\n",
            "INFO  [prefect.task_runs] [86]\tvalidation-rmse:5.20281\n",
            "INFO  [prefect.task_runs] [87]\tvalidation-rmse:5.20294\n",
            "INFO  [prefect.task_runs] [88]\tvalidation-rmse:5.20271\n",
            "INFO  [prefect.task_runs] [89]\tvalidation-rmse:5.20245\n",
            "INFO  [prefect.task_runs] [90]\tvalidation-rmse:5.20201\n",
            "INFO  [prefect.task_runs] [91]\tvalidation-rmse:5.20186\n",
            "INFO  [prefect.task_runs] [92]\tvalidation-rmse:5.20146\n",
            "INFO  [prefect.task_runs] [93]\tvalidation-rmse:5.20144\n",
            "INFO  [prefect.task_runs] [94]\tvalidation-rmse:5.20096\n",
            "INFO  [prefect.task_runs] [95]\tvalidation-rmse:5.20087\n",
            "INFO  [prefect.task_runs] [96]\tvalidation-rmse:5.20016\n",
            "INFO  [prefect.task_runs] [97]\tvalidation-rmse:5.19983\n",
            "INFO  [prefect.task_runs] [98]\tvalidation-rmse:5.19931\n",
            "INFO  [prefect.task_runs] [99]\tvalidation-rmse:5.19931\n",
            "/usr/local/lib/python3.10/dist-packages/_distutils_hack/__init__.py:33: UserWarning: Setuptools is replacing distutils.\n",
            "  warnings.warn(\"Setuptools is replacing distutils.\")\n",
            "INFO  [prefect.task_runs] Finished in state Completed()\n",
            "INFO  [prefect.flow_runs] Finished in state Completed('All states completed.')\n"
          ]
        }
      ],
      "source": [
        "import pathlib\n",
        "import pickle\n",
        "import pandas as pd\n",
        "import numpy as np\n",
        "import scipy\n",
        "import sklearn\n",
        "from sklearn.feature_extraction import DictVectorizer\n",
        "from sklearn.metrics import mean_squared_error\n",
        "import mlflow\n",
        "import xgboost as xgb\n",
        "from prefect import flow, task\n",
        "\n",
        "\n",
        "@task(retries=3, retry_delay_seconds=2)\n",
        "def read_data(filename: str) -> pd.DataFrame:\n",
        "    \"\"\"Read data into DataFrame\"\"\"\n",
        "    df = pd.read_parquet(filename)\n",
        "\n",
        "    df.lpep_dropoff_datetime = pd.to_datetime(df.lpep_dropoff_datetime)\n",
        "    df.lpep_pickup_datetime = pd.to_datetime(df.lpep_pickup_datetime)\n",
        "\n",
        "    df[\"duration\"] = df.lpep_dropoff_datetime - df.lpep_pickup_datetime\n",
        "    df.duration = df.duration.apply(lambda td: td.total_seconds() / 60)\n",
        "\n",
        "    df = df[(df.duration >= 1) & (df.duration <= 60)]\n",
        "\n",
        "    categorical = [\"PULocationID\", \"DOLocationID\"]\n",
        "    df[categorical] = df[categorical].astype(str)\n",
        "\n",
        "    return df\n",
        "\n",
        "\n",
        "@task\n",
        "def add_features(\n",
        "    df_train: pd.DataFrame, df_val: pd.DataFrame\n",
        ") -> tuple(\n",
        "    [\n",
        "        scipy.sparse._csr.csr_matrix,\n",
        "        scipy.sparse._csr.csr_matrix,\n",
        "        np.ndarray,\n",
        "        np.ndarray,\n",
        "        sklearn.feature_extraction.DictVectorizer,\n",
        "    ]\n",
        "):\n",
        "    \"\"\"Add features to the model\"\"\"\n",
        "    df_train[\"PU_DO\"] = df_train[\"PULocationID\"] + \"_\" + df_train[\"DOLocationID\"]\n",
        "    df_val[\"PU_DO\"] = df_val[\"PULocationID\"] + \"_\" + df_val[\"DOLocationID\"]\n",
        "\n",
        "    categorical = [\"PU_DO\"]  #'PULocationID', 'DOLocationID']\n",
        "    numerical = [\"trip_distance\"]\n",
        "\n",
        "    dv = DictVectorizer()\n",
        "\n",
        "    train_dicts = df_train[categorical + numerical].to_dict(orient=\"records\")\n",
        "    X_train = dv.fit_transform(train_dicts)\n",
        "\n",
        "    val_dicts = df_val[categorical + numerical].to_dict(orient=\"records\")\n",
        "    X_val = dv.transform(val_dicts)\n",
        "\n",
        "    y_train = df_train[\"duration\"].values\n",
        "    y_val = df_val[\"duration\"].values\n",
        "    return X_train, X_val, y_train, y_val, dv\n",
        "\n",
        "\n",
        "@task(log_prints=True)\n",
        "def train_best_model(\n",
        "    X_train: scipy.sparse._csr.csr_matrix,\n",
        "    X_val: scipy.sparse._csr.csr_matrix,\n",
        "    y_train: np.ndarray,\n",
        "    y_val: np.ndarray,\n",
        "    dv: sklearn.feature_extraction.DictVectorizer,\n",
        ") -> None:\n",
        "    \"\"\"train a model with best hyperparams and write everything out\"\"\"\n",
        "\n",
        "    with mlflow.start_run():\n",
        "        train = xgb.DMatrix(X_train, label=y_train)\n",
        "        valid = xgb.DMatrix(X_val, label=y_val)\n",
        "\n",
        "        best_params = {\n",
        "            \"learning_rate\": 0.09585355369315604,\n",
        "            \"max_depth\": 30,\n",
        "            \"min_child_weight\": 1.060597050922164,\n",
        "            \"objective\": \"reg:linear\",\n",
        "            \"reg_alpha\": 0.018060244040060163,\n",
        "            \"reg_lambda\": 0.011658731377413597,\n",
        "            \"seed\": 42,\n",
        "        }\n",
        "\n",
        "        mlflow.log_params(best_params)\n",
        "\n",
        "        booster = xgb.train(\n",
        "            params=best_params,\n",
        "            dtrain=train,\n",
        "            num_boost_round=100,\n",
        "            evals=[(valid, \"validation\")],\n",
        "            early_stopping_rounds=20,\n",
        "        )\n",
        "\n",
        "        y_pred = booster.predict(valid)\n",
        "        rmse = mean_squared_error(y_val, y_pred, squared=False)\n",
        "        mlflow.log_metric(\"rmse\", rmse)\n",
        "\n",
        "        pathlib.Path(\"models\").mkdir(exist_ok=True)\n",
        "        with open(\"models/preprocessor.b\", \"wb\") as f_out:\n",
        "            pickle.dump(dv, f_out)\n",
        "        mlflow.log_artifact(\"models/preprocessor.b\", artifact_path=\"preprocessor\")\n",
        "\n",
        "        mlflow.xgboost.log_model(booster, artifact_path=\"models_mlflow\")\n",
        "    return None\n",
        "\n",
        "\n",
        "@flow\n",
        "def main_flow(\n",
        "    train_path: str = \"./data/green_tripdata_2023-01.parquet\",\n",
        "    val_path: str = \"./data/green_tripdata_2023-02.parquet\",\n",
        ") -> None:\n",
        "    \"\"\"The main training pipeline\"\"\"\n",
        "\n",
        "    # MLflow settings\n",
        "    mlflow.set_tracking_uri(\"sqlite:///mlflow.db\")\n",
        "    mlflow.set_experiment(\"nyc-taxi-experiment\")\n",
        "\n",
        "    # Load\n",
        "    df_train = read_data(train_path)\n",
        "    df_val = read_data(val_path)\n",
        "\n",
        "    # Transform\n",
        "    X_train, X_val, y_train, y_val, dv = add_features(df_train, df_val)\n",
        "\n",
        "    # Train\n",
        "    train_best_model(X_train, X_val, y_train, y_val, dv)\n",
        "\n",
        "\n",
        "if __name__ == \"__main__\":\n",
        "    main_flow()"
      ]
    },
    {
      "cell_type": "code",
      "source": [
        "import pathlib\n",
        "import pickle\n",
        "import pandas as pd\n",
        "import numpy as np\n",
        "import scipy\n",
        "import sklearn\n",
        "from sklearn.feature_extraction import DictVectorizer\n",
        "from sklearn.metrics import mean_squared_error\n",
        "import mlflow\n",
        "import xgboost as xgb\n",
        "from prefect import flow, task\n",
        "\n",
        "\n",
        "@task(retries=3, retry_delay_seconds=2)\n",
        "def read_data(filename: str) -> pd.DataFrame:\n",
        "    \"\"\"Read data into DataFrame\"\"\"\n",
        "    df = pd.read_parquet(filename)\n",
        "\n",
        "    df.lpep_dropoff_datetime = pd.to_datetime(df.lpep_dropoff_datetime)\n",
        "    df.lpep_pickup_datetime = pd.to_datetime(df.lpep_pickup_datetime)\n",
        "\n",
        "    df[\"duration\"] = df.lpep_dropoff_datetime - df.lpep_pickup_datetime\n",
        "    df.duration = df.duration.apply(lambda td: td.total_seconds() / 60)\n",
        "\n",
        "    df = df[(df.duration >= 1) & (df.duration <= 60)]\n",
        "\n",
        "    categorical = [\"PULocationID\", \"DOLocationID\"]\n",
        "    df[categorical] = df[categorical].astype(str)\n",
        "\n",
        "    return df\n",
        "\n",
        "\n",
        "@task\n",
        "def add_features(\n",
        "    df_train: pd.DataFrame, df_val: pd.DataFrame\n",
        ") -> tuple(\n",
        "    [\n",
        "        scipy.sparse._csr.csr_matrix,\n",
        "        scipy.sparse._csr.csr_matrix,\n",
        "        np.ndarray,\n",
        "        np.ndarray,\n",
        "        sklearn.feature_extraction.DictVectorizer,\n",
        "    ]\n",
        "):\n",
        "    \"\"\"Add features to the model\"\"\"\n",
        "    df_train[\"PU_DO\"] = df_train[\"PULocationID\"] + \"_\" + df_train[\"DOLocationID\"]\n",
        "    df_val[\"PU_DO\"] = df_val[\"PULocationID\"] + \"_\" + df_val[\"DOLocationID\"]\n",
        "\n",
        "    categorical = [\"PU_DO\"]  #'PULocationID', 'DOLocationID']\n",
        "    numerical = [\"trip_distance\"]\n",
        "\n",
        "    dv = DictVectorizer()\n",
        "\n",
        "    train_dicts = df_train[categorical + numerical].to_dict(orient=\"records\")\n",
        "    X_train = dv.fit_transform(train_dicts)\n",
        "\n",
        "    val_dicts = df_val[categorical + numerical].to_dict(orient=\"records\")\n",
        "    X_val = dv.transform(val_dicts)\n",
        "\n",
        "    y_train = df_train[\"duration\"].values\n",
        "    y_val = df_val[\"duration\"].values\n",
        "    return X_train, X_val, y_train, y_val, dv\n",
        "\n",
        "\n",
        "@task(log_prints=True)\n",
        "def train_best_model(\n",
        "    X_train: scipy.sparse._csr.csr_matrix,\n",
        "    X_val: scipy.sparse._csr.csr_matrix,\n",
        "    y_train: np.ndarray,\n",
        "    y_val: np.ndarray,\n",
        "    dv: sklearn.feature_extraction.DictVectorizer,\n",
        ") -> None:\n",
        "    \"\"\"train a model with best hyperparams and write everything out\"\"\"\n",
        "\n",
        "    with mlflow.start_run():\n",
        "        train = xgb.DMatrix(X_train, label=y_train)\n",
        "        valid = xgb.DMatrix(X_val, label=y_val)\n",
        "\n",
        "        best_params = {\n",
        "            \"learning_rate\": 0.09585355369315604,\n",
        "            \"max_depth\": 30,\n",
        "            \"min_child_weight\": 1.060597050922164,\n",
        "            \"objective\": \"reg:linear\",\n",
        "            \"reg_alpha\": 0.018060244040060163,\n",
        "            \"reg_lambda\": 0.011658731377413597,\n",
        "            \"seed\": 42,\n",
        "        }\n",
        "\n",
        "        mlflow.log_params(best_params)\n",
        "\n",
        "        booster = xgb.train(\n",
        "            params=best_params,\n",
        "            dtrain=train,\n",
        "            num_boost_round=100,\n",
        "            evals=[(valid, \"validation\")],\n",
        "            early_stopping_rounds=20,\n",
        "        )\n",
        "\n",
        "        y_pred = booster.predict(valid)\n",
        "        rmse = mean_squared_error(y_val, y_pred, squared=False)\n",
        "        mlflow.log_metric(\"rmse\", rmse)\n",
        "\n",
        "        pathlib.Path(\"models\").mkdir(exist_ok=True)\n",
        "        with open(\"models/preprocessor.b\", \"wb\") as f_out:\n",
        "            pickle.dump(dv, f_out)\n",
        "        mlflow.log_artifact(\"models/preprocessor.b\", artifact_path=\"preprocessor\")\n",
        "\n",
        "        mlflow.xgboost.log_model(booster, artifact_path=\"models_mlflow\")\n",
        "    return None\n",
        "\n",
        "\n",
        "@flow\n",
        "def main_flow(\n",
        "    train_path: str = \"./data/green_tripdata_2023-02.parquet\",\n",
        "    val_path: str = \"./data/green_tripdata_2023-03.parquet\",\n",
        ") -> None:\n",
        "    \"\"\"The main training pipeline\"\"\"\n",
        "\n",
        "    # MLflow settings\n",
        "    mlflow.set_tracking_uri(\"sqlite:///mlflow.db\")\n",
        "    mlflow.set_experiment(\"nyc-taxi-experiment\")\n",
        "\n",
        "    # Load\n",
        "    df_train = read_data(train_path)\n",
        "    df_val = read_data(val_path)\n",
        "\n",
        "    # Transform\n",
        "    X_train, X_val, y_train, y_val, dv = add_features(df_train, df_val)\n",
        "\n",
        "    # Train\n",
        "    train_best_model(X_train, X_val, y_train, y_val, dv)\n",
        "\n",
        "\n",
        "if __name__ == \"__main__\":\n",
        "    main_flow()"
      ],
      "metadata": {
        "colab": {
          "base_uri": "https://localhost:8080/",
          "height": 1000
        },
        "id": "jRJ717cmuHkV",
        "outputId": "7e86a29c-123f-4067-8bd3-d2e834af73ef"
      },
      "execution_count": 6,
      "outputs": [
        {
          "output_type": "display_data",
          "data": {
            "text/plain": [
              "19:11:53.870 | \u001b[36mINFO\u001b[0m    | alembic.runtime.migration - Context impl SQLiteImpl.\n"
            ],
            "text/html": [
              "<pre style=\"white-space:pre;overflow-x:auto;line-height:normal;font-family:Menlo,'DejaVu Sans Mono',consolas,'Courier New',monospace\">19:11:53.870 | <span style=\"color: #008080; text-decoration-color: #008080\">INFO</span>    | alembic.runtime.migration - Context impl SQLiteImpl.\n",
              "</pre>\n"
            ]
          },
          "metadata": {}
        },
        {
          "output_type": "display_data",
          "data": {
            "text/plain": [
              "19:11:53.873 | \u001b[36mINFO\u001b[0m    | alembic.runtime.migration - Will assume non-transactional DDL.\n"
            ],
            "text/html": [
              "<pre style=\"white-space:pre;overflow-x:auto;line-height:normal;font-family:Menlo,'DejaVu Sans Mono',consolas,'Courier New',monospace\">19:11:53.873 | <span style=\"color: #008080; text-decoration-color: #008080\">INFO</span>    | alembic.runtime.migration - Will assume non-transactional DDL.\n",
              "</pre>\n"
            ]
          },
          "metadata": {}
        },
        {
          "output_type": "display_data",
          "data": {
            "text/plain": [
              "19:11:54.011 | \u001b[36mINFO\u001b[0m    | prefect.engine - Created flow run\u001b[35m 'enigmatic-dragonfly'\u001b[0m for flow\u001b[1;35m 'main-flow'\u001b[0m\n"
            ],
            "text/html": [
              "<pre style=\"white-space:pre;overflow-x:auto;line-height:normal;font-family:Menlo,'DejaVu Sans Mono',consolas,'Courier New',monospace\">19:11:54.011 | <span style=\"color: #008080; text-decoration-color: #008080\">INFO</span>    | prefect.engine - Created flow run<span style=\"color: #800080; text-decoration-color: #800080\"> 'enigmatic-dragonfly'</span> for flow<span style=\"color: #800080; text-decoration-color: #800080; font-weight: bold\"> 'main-flow'</span>\n",
              "</pre>\n"
            ]
          },
          "metadata": {}
        },
        {
          "output_type": "display_data",
          "data": {
            "text/plain": [
              "19:11:54.228 | \u001b[36mINFO\u001b[0m    | Flow run\u001b[35m 'enigmatic-dragonfly'\u001b[0m - Created task run 'read_data-0' for task 'read_data'\n"
            ],
            "text/html": [
              "<pre style=\"white-space:pre;overflow-x:auto;line-height:normal;font-family:Menlo,'DejaVu Sans Mono',consolas,'Courier New',monospace\">19:11:54.228 | <span style=\"color: #008080; text-decoration-color: #008080\">INFO</span>    | Flow run<span style=\"color: #800080; text-decoration-color: #800080\"> 'enigmatic-dragonfly'</span> - Created task run 'read_data-0' for task 'read_data'\n",
              "</pre>\n"
            ]
          },
          "metadata": {}
        },
        {
          "output_type": "display_data",
          "data": {
            "text/plain": [
              "19:11:54.232 | \u001b[36mINFO\u001b[0m    | Flow run\u001b[35m 'enigmatic-dragonfly'\u001b[0m - Executing 'read_data-0' immediately...\n"
            ],
            "text/html": [
              "<pre style=\"white-space:pre;overflow-x:auto;line-height:normal;font-family:Menlo,'DejaVu Sans Mono',consolas,'Courier New',monospace\">19:11:54.232 | <span style=\"color: #008080; text-decoration-color: #008080\">INFO</span>    | Flow run<span style=\"color: #800080; text-decoration-color: #800080\"> 'enigmatic-dragonfly'</span> - Executing 'read_data-0' immediately...\n",
              "</pre>\n"
            ]
          },
          "metadata": {}
        },
        {
          "output_type": "display_data",
          "data": {
            "text/plain": [
              "19:11:55.117 | \u001b[36mINFO\u001b[0m    | Task run 'read_data-0' - Finished in state \u001b[32mCompleted\u001b[0m()\n"
            ],
            "text/html": [
              "<pre style=\"white-space:pre;overflow-x:auto;line-height:normal;font-family:Menlo,'DejaVu Sans Mono',consolas,'Courier New',monospace\">19:11:55.117 | <span style=\"color: #008080; text-decoration-color: #008080\">INFO</span>    | Task run 'read_data-0' - Finished in state <span style=\"color: #008000; text-decoration-color: #008000\">Completed</span>()\n",
              "</pre>\n"
            ]
          },
          "metadata": {}
        },
        {
          "output_type": "display_data",
          "data": {
            "text/plain": [
              "19:11:55.174 | \u001b[36mINFO\u001b[0m    | Flow run\u001b[35m 'enigmatic-dragonfly'\u001b[0m - Created task run 'read_data-1' for task 'read_data'\n"
            ],
            "text/html": [
              "<pre style=\"white-space:pre;overflow-x:auto;line-height:normal;font-family:Menlo,'DejaVu Sans Mono',consolas,'Courier New',monospace\">19:11:55.174 | <span style=\"color: #008080; text-decoration-color: #008080\">INFO</span>    | Flow run<span style=\"color: #800080; text-decoration-color: #800080\"> 'enigmatic-dragonfly'</span> - Created task run 'read_data-1' for task 'read_data'\n",
              "</pre>\n"
            ]
          },
          "metadata": {}
        },
        {
          "output_type": "display_data",
          "data": {
            "text/plain": [
              "19:11:55.177 | \u001b[36mINFO\u001b[0m    | Flow run\u001b[35m 'enigmatic-dragonfly'\u001b[0m - Executing 'read_data-1' immediately...\n"
            ],
            "text/html": [
              "<pre style=\"white-space:pre;overflow-x:auto;line-height:normal;font-family:Menlo,'DejaVu Sans Mono',consolas,'Courier New',monospace\">19:11:55.177 | <span style=\"color: #008080; text-decoration-color: #008080\">INFO</span>    | Flow run<span style=\"color: #800080; text-decoration-color: #800080\"> 'enigmatic-dragonfly'</span> - Executing 'read_data-1' immediately...\n",
              "</pre>\n"
            ]
          },
          "metadata": {}
        },
        {
          "output_type": "display_data",
          "data": {
            "text/plain": [
              "19:11:55.558 | \u001b[36mINFO\u001b[0m    | Task run 'read_data-1' - Finished in state \u001b[32mCompleted\u001b[0m()\n"
            ],
            "text/html": [
              "<pre style=\"white-space:pre;overflow-x:auto;line-height:normal;font-family:Menlo,'DejaVu Sans Mono',consolas,'Courier New',monospace\">19:11:55.558 | <span style=\"color: #008080; text-decoration-color: #008080\">INFO</span>    | Task run 'read_data-1' - Finished in state <span style=\"color: #008000; text-decoration-color: #008000\">Completed</span>()\n",
              "</pre>\n"
            ]
          },
          "metadata": {}
        },
        {
          "output_type": "display_data",
          "data": {
            "text/plain": [
              "19:11:55.609 | \u001b[36mINFO\u001b[0m    | Flow run\u001b[35m 'enigmatic-dragonfly'\u001b[0m - Created task run 'add_features-0' for task 'add_features'\n"
            ],
            "text/html": [
              "<pre style=\"white-space:pre;overflow-x:auto;line-height:normal;font-family:Menlo,'DejaVu Sans Mono',consolas,'Courier New',monospace\">19:11:55.609 | <span style=\"color: #008080; text-decoration-color: #008080\">INFO</span>    | Flow run<span style=\"color: #800080; text-decoration-color: #800080\"> 'enigmatic-dragonfly'</span> - Created task run 'add_features-0' for task 'add_features'\n",
              "</pre>\n"
            ]
          },
          "metadata": {}
        },
        {
          "output_type": "display_data",
          "data": {
            "text/plain": [
              "19:11:55.611 | \u001b[36mINFO\u001b[0m    | Flow run\u001b[35m 'enigmatic-dragonfly'\u001b[0m - Executing 'add_features-0' immediately...\n"
            ],
            "text/html": [
              "<pre style=\"white-space:pre;overflow-x:auto;line-height:normal;font-family:Menlo,'DejaVu Sans Mono',consolas,'Courier New',monospace\">19:11:55.611 | <span style=\"color: #008080; text-decoration-color: #008080\">INFO</span>    | Flow run<span style=\"color: #800080; text-decoration-color: #800080\"> 'enigmatic-dragonfly'</span> - Executing 'add_features-0' immediately...\n",
              "</pre>\n"
            ]
          },
          "metadata": {}
        },
        {
          "output_type": "display_data",
          "data": {
            "text/plain": [
              "19:11:56.434 | \u001b[36mINFO\u001b[0m    | Task run 'add_features-0' - Finished in state \u001b[32mCompleted\u001b[0m()\n"
            ],
            "text/html": [
              "<pre style=\"white-space:pre;overflow-x:auto;line-height:normal;font-family:Menlo,'DejaVu Sans Mono',consolas,'Courier New',monospace\">19:11:56.434 | <span style=\"color: #008080; text-decoration-color: #008080\">INFO</span>    | Task run 'add_features-0' - Finished in state <span style=\"color: #008000; text-decoration-color: #008000\">Completed</span>()\n",
              "</pre>\n"
            ]
          },
          "metadata": {}
        },
        {
          "output_type": "display_data",
          "data": {
            "text/plain": [
              "19:11:56.491 | \u001b[36mINFO\u001b[0m    | Flow run\u001b[35m 'enigmatic-dragonfly'\u001b[0m - Created task run 'train_best_model-0' for task 'train_best_model'\n"
            ],
            "text/html": [
              "<pre style=\"white-space:pre;overflow-x:auto;line-height:normal;font-family:Menlo,'DejaVu Sans Mono',consolas,'Courier New',monospace\">19:11:56.491 | <span style=\"color: #008080; text-decoration-color: #008080\">INFO</span>    | Flow run<span style=\"color: #800080; text-decoration-color: #800080\"> 'enigmatic-dragonfly'</span> - Created task run 'train_best_model-0' for task 'train_best_model'\n",
              "</pre>\n"
            ]
          },
          "metadata": {}
        },
        {
          "output_type": "display_data",
          "data": {
            "text/plain": [
              "19:11:56.494 | \u001b[36mINFO\u001b[0m    | Flow run\u001b[35m 'enigmatic-dragonfly'\u001b[0m - Executing 'train_best_model-0' immediately...\n"
            ],
            "text/html": [
              "<pre style=\"white-space:pre;overflow-x:auto;line-height:normal;font-family:Menlo,'DejaVu Sans Mono',consolas,'Courier New',monospace\">19:11:56.494 | <span style=\"color: #008080; text-decoration-color: #008080\">INFO</span>    | Flow run<span style=\"color: #800080; text-decoration-color: #800080\"> 'enigmatic-dragonfly'</span> - Executing 'train_best_model-0' immediately...\n",
              "</pre>\n"
            ]
          },
          "metadata": {}
        },
        {
          "output_type": "display_data",
          "data": {
            "text/plain": [
              "19:11:56.908 | \u001b[36mINFO\u001b[0m    | Task run 'train_best_model-0' - [0]    validation-rmse:15.33078\n"
            ],
            "text/html": [
              "<pre style=\"white-space:pre;overflow-x:auto;line-height:normal;font-family:Menlo,'DejaVu Sans Mono',consolas,'Courier New',monospace\">19:11:56.908 | <span style=\"color: #008080; text-decoration-color: #008080\">INFO</span>    | Task run 'train_best_model-0' - [0]    validation-rmse:15.33078\n",
              "</pre>\n"
            ]
          },
          "metadata": {}
        },
        {
          "output_type": "display_data",
          "data": {
            "text/plain": [
              "19:11:57.155 | \u001b[36mINFO\u001b[0m    | Task run 'train_best_model-0' - [1]    validation-rmse:14.09739\n"
            ],
            "text/html": [
              "<pre style=\"white-space:pre;overflow-x:auto;line-height:normal;font-family:Menlo,'DejaVu Sans Mono',consolas,'Courier New',monospace\">19:11:57.155 | <span style=\"color: #008080; text-decoration-color: #008080\">INFO</span>    | Task run 'train_best_model-0' - [1]    validation-rmse:14.09739\n",
              "</pre>\n"
            ]
          },
          "metadata": {}
        },
        {
          "output_type": "display_data",
          "data": {
            "text/plain": [
              "19:11:57.416 | \u001b[36mINFO\u001b[0m    | Task run 'train_best_model-0' - [2]    validation-rmse:12.99920\n"
            ],
            "text/html": [
              "<pre style=\"white-space:pre;overflow-x:auto;line-height:normal;font-family:Menlo,'DejaVu Sans Mono',consolas,'Courier New',monospace\">19:11:57.416 | <span style=\"color: #008080; text-decoration-color: #008080\">INFO</span>    | Task run 'train_best_model-0' - [2]    validation-rmse:12.99920\n",
              "</pre>\n"
            ]
          },
          "metadata": {}
        },
        {
          "output_type": "display_data",
          "data": {
            "text/plain": [
              "19:11:57.656 | \u001b[36mINFO\u001b[0m    | Task run 'train_best_model-0' - [3]    validation-rmse:12.02243\n"
            ],
            "text/html": [
              "<pre style=\"white-space:pre;overflow-x:auto;line-height:normal;font-family:Menlo,'DejaVu Sans Mono',consolas,'Courier New',monospace\">19:11:57.656 | <span style=\"color: #008080; text-decoration-color: #008080\">INFO</span>    | Task run 'train_best_model-0' - [3]    validation-rmse:12.02243\n",
              "</pre>\n"
            ]
          },
          "metadata": {}
        },
        {
          "output_type": "display_data",
          "data": {
            "text/plain": [
              "19:11:57.912 | \u001b[36mINFO\u001b[0m    | Task run 'train_best_model-0' - [4]    validation-rmse:11.15585\n"
            ],
            "text/html": [
              "<pre style=\"white-space:pre;overflow-x:auto;line-height:normal;font-family:Menlo,'DejaVu Sans Mono',consolas,'Courier New',monospace\">19:11:57.912 | <span style=\"color: #008080; text-decoration-color: #008080\">INFO</span>    | Task run 'train_best_model-0' - [4]    validation-rmse:11.15585\n",
              "</pre>\n"
            ]
          },
          "metadata": {}
        },
        {
          "output_type": "display_data",
          "data": {
            "text/plain": [
              "19:11:58.163 | \u001b[36mINFO\u001b[0m    | Task run 'train_best_model-0' - [5]    validation-rmse:10.39226\n"
            ],
            "text/html": [
              "<pre style=\"white-space:pre;overflow-x:auto;line-height:normal;font-family:Menlo,'DejaVu Sans Mono',consolas,'Courier New',monospace\">19:11:58.163 | <span style=\"color: #008080; text-decoration-color: #008080\">INFO</span>    | Task run 'train_best_model-0' - [5]    validation-rmse:10.39226\n",
              "</pre>\n"
            ]
          },
          "metadata": {}
        },
        {
          "output_type": "display_data",
          "data": {
            "text/plain": [
              "19:11:58.420 | \u001b[36mINFO\u001b[0m    | Task run 'train_best_model-0' - [6]    validation-rmse:9.71696\n"
            ],
            "text/html": [
              "<pre style=\"white-space:pre;overflow-x:auto;line-height:normal;font-family:Menlo,'DejaVu Sans Mono',consolas,'Courier New',monospace\">19:11:58.420 | <span style=\"color: #008080; text-decoration-color: #008080\">INFO</span>    | Task run 'train_best_model-0' - [6]    validation-rmse:9.71696\n",
              "</pre>\n"
            ]
          },
          "metadata": {}
        },
        {
          "output_type": "display_data",
          "data": {
            "text/plain": [
              "19:11:58.667 | \u001b[36mINFO\u001b[0m    | Task run 'train_best_model-0' - [7]    validation-rmse:9.12782\n"
            ],
            "text/html": [
              "<pre style=\"white-space:pre;overflow-x:auto;line-height:normal;font-family:Menlo,'DejaVu Sans Mono',consolas,'Courier New',monospace\">19:11:58.667 | <span style=\"color: #008080; text-decoration-color: #008080\">INFO</span>    | Task run 'train_best_model-0' - [7]    validation-rmse:9.12782\n",
              "</pre>\n"
            ]
          },
          "metadata": {}
        },
        {
          "output_type": "display_data",
          "data": {
            "text/plain": [
              "19:11:58.917 | \u001b[36mINFO\u001b[0m    | Task run 'train_best_model-0' - [8]    validation-rmse:8.60975\n"
            ],
            "text/html": [
              "<pre style=\"white-space:pre;overflow-x:auto;line-height:normal;font-family:Menlo,'DejaVu Sans Mono',consolas,'Courier New',monospace\">19:11:58.917 | <span style=\"color: #008080; text-decoration-color: #008080\">INFO</span>    | Task run 'train_best_model-0' - [8]    validation-rmse:8.60975\n",
              "</pre>\n"
            ]
          },
          "metadata": {}
        },
        {
          "output_type": "display_data",
          "data": {
            "text/plain": [
              "19:11:59.157 | \u001b[36mINFO\u001b[0m    | Task run 'train_best_model-0' - [9]    validation-rmse:8.15872\n"
            ],
            "text/html": [
              "<pre style=\"white-space:pre;overflow-x:auto;line-height:normal;font-family:Menlo,'DejaVu Sans Mono',consolas,'Courier New',monospace\">19:11:59.157 | <span style=\"color: #008080; text-decoration-color: #008080\">INFO</span>    | Task run 'train_best_model-0' - [9]    validation-rmse:8.15872\n",
              "</pre>\n"
            ]
          },
          "metadata": {}
        },
        {
          "output_type": "display_data",
          "data": {
            "text/plain": [
              "19:11:59.384 | \u001b[36mINFO\u001b[0m    | Task run 'train_best_model-0' - [10]   validation-rmse:7.76686\n"
            ],
            "text/html": [
              "<pre style=\"white-space:pre;overflow-x:auto;line-height:normal;font-family:Menlo,'DejaVu Sans Mono',consolas,'Courier New',monospace\">19:11:59.384 | <span style=\"color: #008080; text-decoration-color: #008080\">INFO</span>    | Task run 'train_best_model-0' - [10]   validation-rmse:7.76686\n",
              "</pre>\n"
            ]
          },
          "metadata": {}
        },
        {
          "output_type": "display_data",
          "data": {
            "text/plain": [
              "19:11:59.615 | \u001b[36mINFO\u001b[0m    | Task run 'train_best_model-0' - [11]   validation-rmse:7.42798\n"
            ],
            "text/html": [
              "<pre style=\"white-space:pre;overflow-x:auto;line-height:normal;font-family:Menlo,'DejaVu Sans Mono',consolas,'Courier New',monospace\">19:11:59.615 | <span style=\"color: #008080; text-decoration-color: #008080\">INFO</span>    | Task run 'train_best_model-0' - [11]   validation-rmse:7.42798\n",
              "</pre>\n"
            ]
          },
          "metadata": {}
        },
        {
          "output_type": "display_data",
          "data": {
            "text/plain": [
              "19:11:59.857 | \u001b[36mINFO\u001b[0m    | Task run 'train_best_model-0' - [12]   validation-rmse:7.13629\n"
            ],
            "text/html": [
              "<pre style=\"white-space:pre;overflow-x:auto;line-height:normal;font-family:Menlo,'DejaVu Sans Mono',consolas,'Courier New',monospace\">19:11:59.857 | <span style=\"color: #008080; text-decoration-color: #008080\">INFO</span>    | Task run 'train_best_model-0' - [12]   validation-rmse:7.13629\n",
              "</pre>\n"
            ]
          },
          "metadata": {}
        },
        {
          "output_type": "display_data",
          "data": {
            "text/plain": [
              "19:12:00.070 | \u001b[36mINFO\u001b[0m    | Task run 'train_best_model-0' - [13]   validation-rmse:6.88486\n"
            ],
            "text/html": [
              "<pre style=\"white-space:pre;overflow-x:auto;line-height:normal;font-family:Menlo,'DejaVu Sans Mono',consolas,'Courier New',monospace\">19:12:00.070 | <span style=\"color: #008080; text-decoration-color: #008080\">INFO</span>    | Task run 'train_best_model-0' - [13]   validation-rmse:6.88486\n",
              "</pre>\n"
            ]
          },
          "metadata": {}
        },
        {
          "output_type": "display_data",
          "data": {
            "text/plain": [
              "19:12:00.282 | \u001b[36mINFO\u001b[0m    | Task run 'train_best_model-0' - [14]   validation-rmse:6.67077\n"
            ],
            "text/html": [
              "<pre style=\"white-space:pre;overflow-x:auto;line-height:normal;font-family:Menlo,'DejaVu Sans Mono',consolas,'Courier New',monospace\">19:12:00.282 | <span style=\"color: #008080; text-decoration-color: #008080\">INFO</span>    | Task run 'train_best_model-0' - [14]   validation-rmse:6.67077\n",
              "</pre>\n"
            ]
          },
          "metadata": {}
        },
        {
          "output_type": "display_data",
          "data": {
            "text/plain": [
              "19:12:00.503 | \u001b[36mINFO\u001b[0m    | Task run 'train_best_model-0' - [15]   validation-rmse:6.48829\n"
            ],
            "text/html": [
              "<pre style=\"white-space:pre;overflow-x:auto;line-height:normal;font-family:Menlo,'DejaVu Sans Mono',consolas,'Courier New',monospace\">19:12:00.503 | <span style=\"color: #008080; text-decoration-color: #008080\">INFO</span>    | Task run 'train_best_model-0' - [15]   validation-rmse:6.48829\n",
              "</pre>\n"
            ]
          },
          "metadata": {}
        },
        {
          "output_type": "display_data",
          "data": {
            "text/plain": [
              "19:12:00.715 | \u001b[36mINFO\u001b[0m    | Task run 'train_best_model-0' - [16]   validation-rmse:6.33274\n"
            ],
            "text/html": [
              "<pre style=\"white-space:pre;overflow-x:auto;line-height:normal;font-family:Menlo,'DejaVu Sans Mono',consolas,'Courier New',monospace\">19:12:00.715 | <span style=\"color: #008080; text-decoration-color: #008080\">INFO</span>    | Task run 'train_best_model-0' - [16]   validation-rmse:6.33274\n",
              "</pre>\n"
            ]
          },
          "metadata": {}
        },
        {
          "output_type": "display_data",
          "data": {
            "text/plain": [
              "19:12:00.931 | \u001b[36mINFO\u001b[0m    | Task run 'train_best_model-0' - [17]   validation-rmse:6.19826\n"
            ],
            "text/html": [
              "<pre style=\"white-space:pre;overflow-x:auto;line-height:normal;font-family:Menlo,'DejaVu Sans Mono',consolas,'Courier New',monospace\">19:12:00.931 | <span style=\"color: #008080; text-decoration-color: #008080\">INFO</span>    | Task run 'train_best_model-0' - [17]   validation-rmse:6.19826\n",
              "</pre>\n"
            ]
          },
          "metadata": {}
        },
        {
          "output_type": "display_data",
          "data": {
            "text/plain": [
              "19:12:01.116 | \u001b[36mINFO\u001b[0m    | Task run 'train_best_model-0' - [18]   validation-rmse:6.08427\n"
            ],
            "text/html": [
              "<pre style=\"white-space:pre;overflow-x:auto;line-height:normal;font-family:Menlo,'DejaVu Sans Mono',consolas,'Courier New',monospace\">19:12:01.116 | <span style=\"color: #008080; text-decoration-color: #008080\">INFO</span>    | Task run 'train_best_model-0' - [18]   validation-rmse:6.08427\n",
              "</pre>\n"
            ]
          },
          "metadata": {}
        },
        {
          "output_type": "display_data",
          "data": {
            "text/plain": [
              "19:12:01.327 | \u001b[36mINFO\u001b[0m    | Task run 'train_best_model-0' - [19]   validation-rmse:5.98670\n"
            ],
            "text/html": [
              "<pre style=\"white-space:pre;overflow-x:auto;line-height:normal;font-family:Menlo,'DejaVu Sans Mono',consolas,'Courier New',monospace\">19:12:01.327 | <span style=\"color: #008080; text-decoration-color: #008080\">INFO</span>    | Task run 'train_best_model-0' - [19]   validation-rmse:5.98670\n",
              "</pre>\n"
            ]
          },
          "metadata": {}
        },
        {
          "output_type": "display_data",
          "data": {
            "text/plain": [
              "19:12:01.506 | \u001b[36mINFO\u001b[0m    | Task run 'train_best_model-0' - [20]   validation-rmse:5.90483\n"
            ],
            "text/html": [
              "<pre style=\"white-space:pre;overflow-x:auto;line-height:normal;font-family:Menlo,'DejaVu Sans Mono',consolas,'Courier New',monospace\">19:12:01.506 | <span style=\"color: #008080; text-decoration-color: #008080\">INFO</span>    | Task run 'train_best_model-0' - [20]   validation-rmse:5.90483\n",
              "</pre>\n"
            ]
          },
          "metadata": {}
        },
        {
          "output_type": "display_data",
          "data": {
            "text/plain": [
              "19:12:01.695 | \u001b[36mINFO\u001b[0m    | Task run 'train_best_model-0' - [21]   validation-rmse:5.83439\n"
            ],
            "text/html": [
              "<pre style=\"white-space:pre;overflow-x:auto;line-height:normal;font-family:Menlo,'DejaVu Sans Mono',consolas,'Courier New',monospace\">19:12:01.695 | <span style=\"color: #008080; text-decoration-color: #008080\">INFO</span>    | Task run 'train_best_model-0' - [21]   validation-rmse:5.83439\n",
              "</pre>\n"
            ]
          },
          "metadata": {}
        },
        {
          "output_type": "display_data",
          "data": {
            "text/plain": [
              "19:12:01.889 | \u001b[36mINFO\u001b[0m    | Task run 'train_best_model-0' - [22]   validation-rmse:5.77680\n"
            ],
            "text/html": [
              "<pre style=\"white-space:pre;overflow-x:auto;line-height:normal;font-family:Menlo,'DejaVu Sans Mono',consolas,'Courier New',monospace\">19:12:01.889 | <span style=\"color: #008080; text-decoration-color: #008080\">INFO</span>    | Task run 'train_best_model-0' - [22]   validation-rmse:5.77680\n",
              "</pre>\n"
            ]
          },
          "metadata": {}
        },
        {
          "output_type": "display_data",
          "data": {
            "text/plain": [
              "19:12:02.059 | \u001b[36mINFO\u001b[0m    | Task run 'train_best_model-0' - [23]   validation-rmse:5.72543\n"
            ],
            "text/html": [
              "<pre style=\"white-space:pre;overflow-x:auto;line-height:normal;font-family:Menlo,'DejaVu Sans Mono',consolas,'Courier New',monospace\">19:12:02.059 | <span style=\"color: #008080; text-decoration-color: #008080\">INFO</span>    | Task run 'train_best_model-0' - [23]   validation-rmse:5.72543\n",
              "</pre>\n"
            ]
          },
          "metadata": {}
        },
        {
          "output_type": "display_data",
          "data": {
            "text/plain": [
              "19:12:02.249 | \u001b[36mINFO\u001b[0m    | Task run 'train_best_model-0' - [24]   validation-rmse:5.68091\n"
            ],
            "text/html": [
              "<pre style=\"white-space:pre;overflow-x:auto;line-height:normal;font-family:Menlo,'DejaVu Sans Mono',consolas,'Courier New',monospace\">19:12:02.249 | <span style=\"color: #008080; text-decoration-color: #008080\">INFO</span>    | Task run 'train_best_model-0' - [24]   validation-rmse:5.68091\n",
              "</pre>\n"
            ]
          },
          "metadata": {}
        },
        {
          "output_type": "display_data",
          "data": {
            "text/plain": [
              "19:12:02.410 | \u001b[36mINFO\u001b[0m    | Task run 'train_best_model-0' - [25]   validation-rmse:5.64424\n"
            ],
            "text/html": [
              "<pre style=\"white-space:pre;overflow-x:auto;line-height:normal;font-family:Menlo,'DejaVu Sans Mono',consolas,'Courier New',monospace\">19:12:02.410 | <span style=\"color: #008080; text-decoration-color: #008080\">INFO</span>    | Task run 'train_best_model-0' - [25]   validation-rmse:5.64424\n",
              "</pre>\n"
            ]
          },
          "metadata": {}
        },
        {
          "output_type": "display_data",
          "data": {
            "text/plain": [
              "19:12:02.590 | \u001b[36mINFO\u001b[0m    | Task run 'train_best_model-0' - [26]   validation-rmse:5.61182\n"
            ],
            "text/html": [
              "<pre style=\"white-space:pre;overflow-x:auto;line-height:normal;font-family:Menlo,'DejaVu Sans Mono',consolas,'Courier New',monospace\">19:12:02.590 | <span style=\"color: #008080; text-decoration-color: #008080\">INFO</span>    | Task run 'train_best_model-0' - [26]   validation-rmse:5.61182\n",
              "</pre>\n"
            ]
          },
          "metadata": {}
        },
        {
          "output_type": "display_data",
          "data": {
            "text/plain": [
              "19:12:02.749 | \u001b[36mINFO\u001b[0m    | Task run 'train_best_model-0' - [27]   validation-rmse:5.58395\n"
            ],
            "text/html": [
              "<pre style=\"white-space:pre;overflow-x:auto;line-height:normal;font-family:Menlo,'DejaVu Sans Mono',consolas,'Courier New',monospace\">19:12:02.749 | <span style=\"color: #008080; text-decoration-color: #008080\">INFO</span>    | Task run 'train_best_model-0' - [27]   validation-rmse:5.58395\n",
              "</pre>\n"
            ]
          },
          "metadata": {}
        },
        {
          "output_type": "display_data",
          "data": {
            "text/plain": [
              "19:12:02.907 | \u001b[36mINFO\u001b[0m    | Task run 'train_best_model-0' - [28]   validation-rmse:5.56122\n"
            ],
            "text/html": [
              "<pre style=\"white-space:pre;overflow-x:auto;line-height:normal;font-family:Menlo,'DejaVu Sans Mono',consolas,'Courier New',monospace\">19:12:02.907 | <span style=\"color: #008080; text-decoration-color: #008080\">INFO</span>    | Task run 'train_best_model-0' - [28]   validation-rmse:5.56122\n",
              "</pre>\n"
            ]
          },
          "metadata": {}
        },
        {
          "output_type": "display_data",
          "data": {
            "text/plain": [
              "19:12:03.099 | \u001b[36mINFO\u001b[0m    | Task run 'train_best_model-0' - [29]   validation-rmse:5.54000\n"
            ],
            "text/html": [
              "<pre style=\"white-space:pre;overflow-x:auto;line-height:normal;font-family:Menlo,'DejaVu Sans Mono',consolas,'Courier New',monospace\">19:12:03.099 | <span style=\"color: #008080; text-decoration-color: #008080\">INFO</span>    | Task run 'train_best_model-0' - [29]   validation-rmse:5.54000\n",
              "</pre>\n"
            ]
          },
          "metadata": {}
        },
        {
          "output_type": "display_data",
          "data": {
            "text/plain": [
              "19:12:03.363 | \u001b[36mINFO\u001b[0m    | Task run 'train_best_model-0' - [30]   validation-rmse:5.52124\n"
            ],
            "text/html": [
              "<pre style=\"white-space:pre;overflow-x:auto;line-height:normal;font-family:Menlo,'DejaVu Sans Mono',consolas,'Courier New',monospace\">19:12:03.363 | <span style=\"color: #008080; text-decoration-color: #008080\">INFO</span>    | Task run 'train_best_model-0' - [30]   validation-rmse:5.52124\n",
              "</pre>\n"
            ]
          },
          "metadata": {}
        },
        {
          "output_type": "display_data",
          "data": {
            "text/plain": [
              "19:12:04.989 | \u001b[36mINFO\u001b[0m    | Task run 'train_best_model-0' - [31]   validation-rmse:5.50483\n"
            ],
            "text/html": [
              "<pre style=\"white-space:pre;overflow-x:auto;line-height:normal;font-family:Menlo,'DejaVu Sans Mono',consolas,'Courier New',monospace\">19:12:04.989 | <span style=\"color: #008080; text-decoration-color: #008080\">INFO</span>    | Task run 'train_best_model-0' - [31]   validation-rmse:5.50483\n",
              "</pre>\n"
            ]
          },
          "metadata": {}
        },
        {
          "output_type": "display_data",
          "data": {
            "text/plain": [
              "19:12:05.446 | \u001b[36mINFO\u001b[0m    | Task run 'train_best_model-0' - [32]   validation-rmse:5.49293\n"
            ],
            "text/html": [
              "<pre style=\"white-space:pre;overflow-x:auto;line-height:normal;font-family:Menlo,'DejaVu Sans Mono',consolas,'Courier New',monospace\">19:12:05.446 | <span style=\"color: #008080; text-decoration-color: #008080\">INFO</span>    | Task run 'train_best_model-0' - [32]   validation-rmse:5.49293\n",
              "</pre>\n"
            ]
          },
          "metadata": {}
        },
        {
          "output_type": "display_data",
          "data": {
            "text/plain": [
              "19:12:05.875 | \u001b[36mINFO\u001b[0m    | Task run 'train_best_model-0' - [33]   validation-rmse:5.48085\n"
            ],
            "text/html": [
              "<pre style=\"white-space:pre;overflow-x:auto;line-height:normal;font-family:Menlo,'DejaVu Sans Mono',consolas,'Courier New',monospace\">19:12:05.875 | <span style=\"color: #008080; text-decoration-color: #008080\">INFO</span>    | Task run 'train_best_model-0' - [33]   validation-rmse:5.48085\n",
              "</pre>\n"
            ]
          },
          "metadata": {}
        },
        {
          "output_type": "display_data",
          "data": {
            "text/plain": [
              "19:12:06.487 | \u001b[36mINFO\u001b[0m    | Task run 'train_best_model-0' - [34]   validation-rmse:5.47086\n"
            ],
            "text/html": [
              "<pre style=\"white-space:pre;overflow-x:auto;line-height:normal;font-family:Menlo,'DejaVu Sans Mono',consolas,'Courier New',monospace\">19:12:06.487 | <span style=\"color: #008080; text-decoration-color: #008080\">INFO</span>    | Task run 'train_best_model-0' - [34]   validation-rmse:5.47086\n",
              "</pre>\n"
            ]
          },
          "metadata": {}
        },
        {
          "output_type": "display_data",
          "data": {
            "text/plain": [
              "19:12:07.631 | \u001b[36mINFO\u001b[0m    | Task run 'train_best_model-0' - [35]   validation-rmse:5.46186\n"
            ],
            "text/html": [
              "<pre style=\"white-space:pre;overflow-x:auto;line-height:normal;font-family:Menlo,'DejaVu Sans Mono',consolas,'Courier New',monospace\">19:12:07.631 | <span style=\"color: #008080; text-decoration-color: #008080\">INFO</span>    | Task run 'train_best_model-0' - [35]   validation-rmse:5.46186\n",
              "</pre>\n"
            ]
          },
          "metadata": {}
        },
        {
          "output_type": "display_data",
          "data": {
            "text/plain": [
              "19:12:07.751 | \u001b[36mINFO\u001b[0m    | Task run 'train_best_model-0' - [36]   validation-rmse:5.45498\n"
            ],
            "text/html": [
              "<pre style=\"white-space:pre;overflow-x:auto;line-height:normal;font-family:Menlo,'DejaVu Sans Mono',consolas,'Courier New',monospace\">19:12:07.751 | <span style=\"color: #008080; text-decoration-color: #008080\">INFO</span>    | Task run 'train_best_model-0' - [36]   validation-rmse:5.45498\n",
              "</pre>\n"
            ]
          },
          "metadata": {}
        },
        {
          "output_type": "display_data",
          "data": {
            "text/plain": [
              "19:12:07.861 | \u001b[36mINFO\u001b[0m    | Task run 'train_best_model-0' - [37]   validation-rmse:5.44771\n"
            ],
            "text/html": [
              "<pre style=\"white-space:pre;overflow-x:auto;line-height:normal;font-family:Menlo,'DejaVu Sans Mono',consolas,'Courier New',monospace\">19:12:07.861 | <span style=\"color: #008080; text-decoration-color: #008080\">INFO</span>    | Task run 'train_best_model-0' - [37]   validation-rmse:5.44771\n",
              "</pre>\n"
            ]
          },
          "metadata": {}
        },
        {
          "output_type": "display_data",
          "data": {
            "text/plain": [
              "19:12:07.984 | \u001b[36mINFO\u001b[0m    | Task run 'train_best_model-0' - [38]   validation-rmse:5.44088\n"
            ],
            "text/html": [
              "<pre style=\"white-space:pre;overflow-x:auto;line-height:normal;font-family:Menlo,'DejaVu Sans Mono',consolas,'Courier New',monospace\">19:12:07.984 | <span style=\"color: #008080; text-decoration-color: #008080\">INFO</span>    | Task run 'train_best_model-0' - [38]   validation-rmse:5.44088\n",
              "</pre>\n"
            ]
          },
          "metadata": {}
        },
        {
          "output_type": "display_data",
          "data": {
            "text/plain": [
              "19:12:08.117 | \u001b[36mINFO\u001b[0m    | Task run 'train_best_model-0' - [39]   validation-rmse:5.43434\n"
            ],
            "text/html": [
              "<pre style=\"white-space:pre;overflow-x:auto;line-height:normal;font-family:Menlo,'DejaVu Sans Mono',consolas,'Courier New',monospace\">19:12:08.117 | <span style=\"color: #008080; text-decoration-color: #008080\">INFO</span>    | Task run 'train_best_model-0' - [39]   validation-rmse:5.43434\n",
              "</pre>\n"
            ]
          },
          "metadata": {}
        },
        {
          "output_type": "display_data",
          "data": {
            "text/plain": [
              "19:12:08.237 | \u001b[36mINFO\u001b[0m    | Task run 'train_best_model-0' - [40]   validation-rmse:5.43017\n"
            ],
            "text/html": [
              "<pre style=\"white-space:pre;overflow-x:auto;line-height:normal;font-family:Menlo,'DejaVu Sans Mono',consolas,'Courier New',monospace\">19:12:08.237 | <span style=\"color: #008080; text-decoration-color: #008080\">INFO</span>    | Task run 'train_best_model-0' - [40]   validation-rmse:5.43017\n",
              "</pre>\n"
            ]
          },
          "metadata": {}
        },
        {
          "output_type": "display_data",
          "data": {
            "text/plain": [
              "19:12:08.357 | \u001b[36mINFO\u001b[0m    | Task run 'train_best_model-0' - [41]   validation-rmse:5.42578\n"
            ],
            "text/html": [
              "<pre style=\"white-space:pre;overflow-x:auto;line-height:normal;font-family:Menlo,'DejaVu Sans Mono',consolas,'Courier New',monospace\">19:12:08.357 | <span style=\"color: #008080; text-decoration-color: #008080\">INFO</span>    | Task run 'train_best_model-0' - [41]   validation-rmse:5.42578\n",
              "</pre>\n"
            ]
          },
          "metadata": {}
        },
        {
          "output_type": "display_data",
          "data": {
            "text/plain": [
              "19:12:08.464 | \u001b[36mINFO\u001b[0m    | Task run 'train_best_model-0' - [42]   validation-rmse:5.42230\n"
            ],
            "text/html": [
              "<pre style=\"white-space:pre;overflow-x:auto;line-height:normal;font-family:Menlo,'DejaVu Sans Mono',consolas,'Courier New',monospace\">19:12:08.464 | <span style=\"color: #008080; text-decoration-color: #008080\">INFO</span>    | Task run 'train_best_model-0' - [42]   validation-rmse:5.42230\n",
              "</pre>\n"
            ]
          },
          "metadata": {}
        },
        {
          "output_type": "display_data",
          "data": {
            "text/plain": [
              "19:12:08.567 | \u001b[36mINFO\u001b[0m    | Task run 'train_best_model-0' - [43]   validation-rmse:5.41903\n"
            ],
            "text/html": [
              "<pre style=\"white-space:pre;overflow-x:auto;line-height:normal;font-family:Menlo,'DejaVu Sans Mono',consolas,'Courier New',monospace\">19:12:08.567 | <span style=\"color: #008080; text-decoration-color: #008080\">INFO</span>    | Task run 'train_best_model-0' - [43]   validation-rmse:5.41903\n",
              "</pre>\n"
            ]
          },
          "metadata": {}
        },
        {
          "output_type": "display_data",
          "data": {
            "text/plain": [
              "19:12:08.680 | \u001b[36mINFO\u001b[0m    | Task run 'train_best_model-0' - [44]   validation-rmse:5.41589\n"
            ],
            "text/html": [
              "<pre style=\"white-space:pre;overflow-x:auto;line-height:normal;font-family:Menlo,'DejaVu Sans Mono',consolas,'Courier New',monospace\">19:12:08.680 | <span style=\"color: #008080; text-decoration-color: #008080\">INFO</span>    | Task run 'train_best_model-0' - [44]   validation-rmse:5.41589\n",
              "</pre>\n"
            ]
          },
          "metadata": {}
        },
        {
          "output_type": "display_data",
          "data": {
            "text/plain": [
              "19:12:08.805 | \u001b[36mINFO\u001b[0m    | Task run 'train_best_model-0' - [45]   validation-rmse:5.41305\n"
            ],
            "text/html": [
              "<pre style=\"white-space:pre;overflow-x:auto;line-height:normal;font-family:Menlo,'DejaVu Sans Mono',consolas,'Courier New',monospace\">19:12:08.805 | <span style=\"color: #008080; text-decoration-color: #008080\">INFO</span>    | Task run 'train_best_model-0' - [45]   validation-rmse:5.41305\n",
              "</pre>\n"
            ]
          },
          "metadata": {}
        },
        {
          "output_type": "display_data",
          "data": {
            "text/plain": [
              "19:12:08.922 | \u001b[36mINFO\u001b[0m    | Task run 'train_best_model-0' - [46]   validation-rmse:5.41009\n"
            ],
            "text/html": [
              "<pre style=\"white-space:pre;overflow-x:auto;line-height:normal;font-family:Menlo,'DejaVu Sans Mono',consolas,'Courier New',monospace\">19:12:08.922 | <span style=\"color: #008080; text-decoration-color: #008080\">INFO</span>    | Task run 'train_best_model-0' - [46]   validation-rmse:5.41009\n",
              "</pre>\n"
            ]
          },
          "metadata": {}
        },
        {
          "output_type": "display_data",
          "data": {
            "text/plain": [
              "19:12:09.020 | \u001b[36mINFO\u001b[0m    | Task run 'train_best_model-0' - [47]   validation-rmse:5.40823\n"
            ],
            "text/html": [
              "<pre style=\"white-space:pre;overflow-x:auto;line-height:normal;font-family:Menlo,'DejaVu Sans Mono',consolas,'Courier New',monospace\">19:12:09.020 | <span style=\"color: #008080; text-decoration-color: #008080\">INFO</span>    | Task run 'train_best_model-0' - [47]   validation-rmse:5.40823\n",
              "</pre>\n"
            ]
          },
          "metadata": {}
        },
        {
          "output_type": "display_data",
          "data": {
            "text/plain": [
              "19:12:09.141 | \u001b[36mINFO\u001b[0m    | Task run 'train_best_model-0' - [48]   validation-rmse:5.40656\n"
            ],
            "text/html": [
              "<pre style=\"white-space:pre;overflow-x:auto;line-height:normal;font-family:Menlo,'DejaVu Sans Mono',consolas,'Courier New',monospace\">19:12:09.141 | <span style=\"color: #008080; text-decoration-color: #008080\">INFO</span>    | Task run 'train_best_model-0' - [48]   validation-rmse:5.40656\n",
              "</pre>\n"
            ]
          },
          "metadata": {}
        },
        {
          "output_type": "display_data",
          "data": {
            "text/plain": [
              "19:12:09.254 | \u001b[36mINFO\u001b[0m    | Task run 'train_best_model-0' - [49]   validation-rmse:5.40523\n"
            ],
            "text/html": [
              "<pre style=\"white-space:pre;overflow-x:auto;line-height:normal;font-family:Menlo,'DejaVu Sans Mono',consolas,'Courier New',monospace\">19:12:09.254 | <span style=\"color: #008080; text-decoration-color: #008080\">INFO</span>    | Task run 'train_best_model-0' - [49]   validation-rmse:5.40523\n",
              "</pre>\n"
            ]
          },
          "metadata": {}
        },
        {
          "output_type": "display_data",
          "data": {
            "text/plain": [
              "19:12:09.362 | \u001b[36mINFO\u001b[0m    | Task run 'train_best_model-0' - [50]   validation-rmse:5.40380\n"
            ],
            "text/html": [
              "<pre style=\"white-space:pre;overflow-x:auto;line-height:normal;font-family:Menlo,'DejaVu Sans Mono',consolas,'Courier New',monospace\">19:12:09.362 | <span style=\"color: #008080; text-decoration-color: #008080\">INFO</span>    | Task run 'train_best_model-0' - [50]   validation-rmse:5.40380\n",
              "</pre>\n"
            ]
          },
          "metadata": {}
        },
        {
          "output_type": "display_data",
          "data": {
            "text/plain": [
              "19:12:09.472 | \u001b[36mINFO\u001b[0m    | Task run 'train_best_model-0' - [51]   validation-rmse:5.40214\n"
            ],
            "text/html": [
              "<pre style=\"white-space:pre;overflow-x:auto;line-height:normal;font-family:Menlo,'DejaVu Sans Mono',consolas,'Courier New',monospace\">19:12:09.472 | <span style=\"color: #008080; text-decoration-color: #008080\">INFO</span>    | Task run 'train_best_model-0' - [51]   validation-rmse:5.40214\n",
              "</pre>\n"
            ]
          },
          "metadata": {}
        },
        {
          "output_type": "display_data",
          "data": {
            "text/plain": [
              "19:12:09.582 | \u001b[36mINFO\u001b[0m    | Task run 'train_best_model-0' - [52]   validation-rmse:5.40109\n"
            ],
            "text/html": [
              "<pre style=\"white-space:pre;overflow-x:auto;line-height:normal;font-family:Menlo,'DejaVu Sans Mono',consolas,'Courier New',monospace\">19:12:09.582 | <span style=\"color: #008080; text-decoration-color: #008080\">INFO</span>    | Task run 'train_best_model-0' - [52]   validation-rmse:5.40109\n",
              "</pre>\n"
            ]
          },
          "metadata": {}
        },
        {
          "output_type": "display_data",
          "data": {
            "text/plain": [
              "19:12:09.688 | \u001b[36mINFO\u001b[0m    | Task run 'train_best_model-0' - [53]   validation-rmse:5.40025\n"
            ],
            "text/html": [
              "<pre style=\"white-space:pre;overflow-x:auto;line-height:normal;font-family:Menlo,'DejaVu Sans Mono',consolas,'Courier New',monospace\">19:12:09.688 | <span style=\"color: #008080; text-decoration-color: #008080\">INFO</span>    | Task run 'train_best_model-0' - [53]   validation-rmse:5.40025\n",
              "</pre>\n"
            ]
          },
          "metadata": {}
        },
        {
          "output_type": "display_data",
          "data": {
            "text/plain": [
              "19:12:09.804 | \u001b[36mINFO\u001b[0m    | Task run 'train_best_model-0' - [54]   validation-rmse:5.39867\n"
            ],
            "text/html": [
              "<pre style=\"white-space:pre;overflow-x:auto;line-height:normal;font-family:Menlo,'DejaVu Sans Mono',consolas,'Courier New',monospace\">19:12:09.804 | <span style=\"color: #008080; text-decoration-color: #008080\">INFO</span>    | Task run 'train_best_model-0' - [54]   validation-rmse:5.39867\n",
              "</pre>\n"
            ]
          },
          "metadata": {}
        },
        {
          "output_type": "display_data",
          "data": {
            "text/plain": [
              "19:12:09.918 | \u001b[36mINFO\u001b[0m    | Task run 'train_best_model-0' - [55]   validation-rmse:5.39758\n"
            ],
            "text/html": [
              "<pre style=\"white-space:pre;overflow-x:auto;line-height:normal;font-family:Menlo,'DejaVu Sans Mono',consolas,'Courier New',monospace\">19:12:09.918 | <span style=\"color: #008080; text-decoration-color: #008080\">INFO</span>    | Task run 'train_best_model-0' - [55]   validation-rmse:5.39758\n",
              "</pre>\n"
            ]
          },
          "metadata": {}
        },
        {
          "output_type": "display_data",
          "data": {
            "text/plain": [
              "19:12:10.022 | \u001b[36mINFO\u001b[0m    | Task run 'train_best_model-0' - [56]   validation-rmse:5.39653\n"
            ],
            "text/html": [
              "<pre style=\"white-space:pre;overflow-x:auto;line-height:normal;font-family:Menlo,'DejaVu Sans Mono',consolas,'Courier New',monospace\">19:12:10.022 | <span style=\"color: #008080; text-decoration-color: #008080\">INFO</span>    | Task run 'train_best_model-0' - [56]   validation-rmse:5.39653\n",
              "</pre>\n"
            ]
          },
          "metadata": {}
        },
        {
          "output_type": "display_data",
          "data": {
            "text/plain": [
              "19:12:10.142 | \u001b[36mINFO\u001b[0m    | Task run 'train_best_model-0' - [57]   validation-rmse:5.39541\n"
            ],
            "text/html": [
              "<pre style=\"white-space:pre;overflow-x:auto;line-height:normal;font-family:Menlo,'DejaVu Sans Mono',consolas,'Courier New',monospace\">19:12:10.142 | <span style=\"color: #008080; text-decoration-color: #008080\">INFO</span>    | Task run 'train_best_model-0' - [57]   validation-rmse:5.39541\n",
              "</pre>\n"
            ]
          },
          "metadata": {}
        },
        {
          "output_type": "display_data",
          "data": {
            "text/plain": [
              "19:12:10.252 | \u001b[36mINFO\u001b[0m    | Task run 'train_best_model-0' - [58]   validation-rmse:5.39468\n"
            ],
            "text/html": [
              "<pre style=\"white-space:pre;overflow-x:auto;line-height:normal;font-family:Menlo,'DejaVu Sans Mono',consolas,'Courier New',monospace\">19:12:10.252 | <span style=\"color: #008080; text-decoration-color: #008080\">INFO</span>    | Task run 'train_best_model-0' - [58]   validation-rmse:5.39468\n",
              "</pre>\n"
            ]
          },
          "metadata": {}
        },
        {
          "output_type": "display_data",
          "data": {
            "text/plain": [
              "19:12:10.359 | \u001b[36mINFO\u001b[0m    | Task run 'train_best_model-0' - [59]   validation-rmse:5.39393\n"
            ],
            "text/html": [
              "<pre style=\"white-space:pre;overflow-x:auto;line-height:normal;font-family:Menlo,'DejaVu Sans Mono',consolas,'Courier New',monospace\">19:12:10.359 | <span style=\"color: #008080; text-decoration-color: #008080\">INFO</span>    | Task run 'train_best_model-0' - [59]   validation-rmse:5.39393\n",
              "</pre>\n"
            ]
          },
          "metadata": {}
        },
        {
          "output_type": "display_data",
          "data": {
            "text/plain": [
              "19:12:10.469 | \u001b[36mINFO\u001b[0m    | Task run 'train_best_model-0' - [60]   validation-rmse:5.39310\n"
            ],
            "text/html": [
              "<pre style=\"white-space:pre;overflow-x:auto;line-height:normal;font-family:Menlo,'DejaVu Sans Mono',consolas,'Courier New',monospace\">19:12:10.469 | <span style=\"color: #008080; text-decoration-color: #008080\">INFO</span>    | Task run 'train_best_model-0' - [60]   validation-rmse:5.39310\n",
              "</pre>\n"
            ]
          },
          "metadata": {}
        },
        {
          "output_type": "display_data",
          "data": {
            "text/plain": [
              "19:12:10.586 | \u001b[36mINFO\u001b[0m    | Task run 'train_best_model-0' - [61]   validation-rmse:5.39250\n"
            ],
            "text/html": [
              "<pre style=\"white-space:pre;overflow-x:auto;line-height:normal;font-family:Menlo,'DejaVu Sans Mono',consolas,'Courier New',monospace\">19:12:10.586 | <span style=\"color: #008080; text-decoration-color: #008080\">INFO</span>    | Task run 'train_best_model-0' - [61]   validation-rmse:5.39250\n",
              "</pre>\n"
            ]
          },
          "metadata": {}
        },
        {
          "output_type": "display_data",
          "data": {
            "text/plain": [
              "19:12:10.696 | \u001b[36mINFO\u001b[0m    | Task run 'train_best_model-0' - [62]   validation-rmse:5.39156\n"
            ],
            "text/html": [
              "<pre style=\"white-space:pre;overflow-x:auto;line-height:normal;font-family:Menlo,'DejaVu Sans Mono',consolas,'Courier New',monospace\">19:12:10.696 | <span style=\"color: #008080; text-decoration-color: #008080\">INFO</span>    | Task run 'train_best_model-0' - [62]   validation-rmse:5.39156\n",
              "</pre>\n"
            ]
          },
          "metadata": {}
        },
        {
          "output_type": "display_data",
          "data": {
            "text/plain": [
              "19:12:10.827 | \u001b[36mINFO\u001b[0m    | Task run 'train_best_model-0' - [63]   validation-rmse:5.39117\n"
            ],
            "text/html": [
              "<pre style=\"white-space:pre;overflow-x:auto;line-height:normal;font-family:Menlo,'DejaVu Sans Mono',consolas,'Courier New',monospace\">19:12:10.827 | <span style=\"color: #008080; text-decoration-color: #008080\">INFO</span>    | Task run 'train_best_model-0' - [63]   validation-rmse:5.39117\n",
              "</pre>\n"
            ]
          },
          "metadata": {}
        },
        {
          "output_type": "display_data",
          "data": {
            "text/plain": [
              "19:12:10.934 | \u001b[36mINFO\u001b[0m    | Task run 'train_best_model-0' - [64]   validation-rmse:5.39068\n"
            ],
            "text/html": [
              "<pre style=\"white-space:pre;overflow-x:auto;line-height:normal;font-family:Menlo,'DejaVu Sans Mono',consolas,'Courier New',monospace\">19:12:10.934 | <span style=\"color: #008080; text-decoration-color: #008080\">INFO</span>    | Task run 'train_best_model-0' - [64]   validation-rmse:5.39068\n",
              "</pre>\n"
            ]
          },
          "metadata": {}
        },
        {
          "output_type": "display_data",
          "data": {
            "text/plain": [
              "19:12:11.041 | \u001b[36mINFO\u001b[0m    | Task run 'train_best_model-0' - [65]   validation-rmse:5.38985\n"
            ],
            "text/html": [
              "<pre style=\"white-space:pre;overflow-x:auto;line-height:normal;font-family:Menlo,'DejaVu Sans Mono',consolas,'Courier New',monospace\">19:12:11.041 | <span style=\"color: #008080; text-decoration-color: #008080\">INFO</span>    | Task run 'train_best_model-0' - [65]   validation-rmse:5.38985\n",
              "</pre>\n"
            ]
          },
          "metadata": {}
        },
        {
          "output_type": "display_data",
          "data": {
            "text/plain": [
              "19:12:11.174 | \u001b[36mINFO\u001b[0m    | Task run 'train_best_model-0' - [66]   validation-rmse:5.38964\n"
            ],
            "text/html": [
              "<pre style=\"white-space:pre;overflow-x:auto;line-height:normal;font-family:Menlo,'DejaVu Sans Mono',consolas,'Courier New',monospace\">19:12:11.174 | <span style=\"color: #008080; text-decoration-color: #008080\">INFO</span>    | Task run 'train_best_model-0' - [66]   validation-rmse:5.38964\n",
              "</pre>\n"
            ]
          },
          "metadata": {}
        },
        {
          "output_type": "display_data",
          "data": {
            "text/plain": [
              "19:12:11.280 | \u001b[36mINFO\u001b[0m    | Task run 'train_best_model-0' - [67]   validation-rmse:5.38894\n"
            ],
            "text/html": [
              "<pre style=\"white-space:pre;overflow-x:auto;line-height:normal;font-family:Menlo,'DejaVu Sans Mono',consolas,'Courier New',monospace\">19:12:11.280 | <span style=\"color: #008080; text-decoration-color: #008080\">INFO</span>    | Task run 'train_best_model-0' - [67]   validation-rmse:5.38894\n",
              "</pre>\n"
            ]
          },
          "metadata": {}
        },
        {
          "output_type": "display_data",
          "data": {
            "text/plain": [
              "19:12:11.386 | \u001b[36mINFO\u001b[0m    | Task run 'train_best_model-0' - [68]   validation-rmse:5.38829\n"
            ],
            "text/html": [
              "<pre style=\"white-space:pre;overflow-x:auto;line-height:normal;font-family:Menlo,'DejaVu Sans Mono',consolas,'Courier New',monospace\">19:12:11.386 | <span style=\"color: #008080; text-decoration-color: #008080\">INFO</span>    | Task run 'train_best_model-0' - [68]   validation-rmse:5.38829\n",
              "</pre>\n"
            ]
          },
          "metadata": {}
        },
        {
          "output_type": "display_data",
          "data": {
            "text/plain": [
              "19:12:11.488 | \u001b[36mINFO\u001b[0m    | Task run 'train_best_model-0' - [69]   validation-rmse:5.38770\n"
            ],
            "text/html": [
              "<pre style=\"white-space:pre;overflow-x:auto;line-height:normal;font-family:Menlo,'DejaVu Sans Mono',consolas,'Courier New',monospace\">19:12:11.488 | <span style=\"color: #008080; text-decoration-color: #008080\">INFO</span>    | Task run 'train_best_model-0' - [69]   validation-rmse:5.38770\n",
              "</pre>\n"
            ]
          },
          "metadata": {}
        },
        {
          "output_type": "display_data",
          "data": {
            "text/plain": [
              "19:12:11.607 | \u001b[36mINFO\u001b[0m    | Task run 'train_best_model-0' - [70]   validation-rmse:5.38663\n"
            ],
            "text/html": [
              "<pre style=\"white-space:pre;overflow-x:auto;line-height:normal;font-family:Menlo,'DejaVu Sans Mono',consolas,'Courier New',monospace\">19:12:11.607 | <span style=\"color: #008080; text-decoration-color: #008080\">INFO</span>    | Task run 'train_best_model-0' - [70]   validation-rmse:5.38663\n",
              "</pre>\n"
            ]
          },
          "metadata": {}
        },
        {
          "output_type": "display_data",
          "data": {
            "text/plain": [
              "19:12:11.718 | \u001b[36mINFO\u001b[0m    | Task run 'train_best_model-0' - [71]   validation-rmse:5.38621\n"
            ],
            "text/html": [
              "<pre style=\"white-space:pre;overflow-x:auto;line-height:normal;font-family:Menlo,'DejaVu Sans Mono',consolas,'Courier New',monospace\">19:12:11.718 | <span style=\"color: #008080; text-decoration-color: #008080\">INFO</span>    | Task run 'train_best_model-0' - [71]   validation-rmse:5.38621\n",
              "</pre>\n"
            ]
          },
          "metadata": {}
        },
        {
          "output_type": "display_data",
          "data": {
            "text/plain": [
              "19:12:11.844 | \u001b[36mINFO\u001b[0m    | Task run 'train_best_model-0' - [72]   validation-rmse:5.38556\n"
            ],
            "text/html": [
              "<pre style=\"white-space:pre;overflow-x:auto;line-height:normal;font-family:Menlo,'DejaVu Sans Mono',consolas,'Courier New',monospace\">19:12:11.844 | <span style=\"color: #008080; text-decoration-color: #008080\">INFO</span>    | Task run 'train_best_model-0' - [72]   validation-rmse:5.38556\n",
              "</pre>\n"
            ]
          },
          "metadata": {}
        },
        {
          "output_type": "display_data",
          "data": {
            "text/plain": [
              "19:12:11.959 | \u001b[36mINFO\u001b[0m    | Task run 'train_best_model-0' - [73]   validation-rmse:5.38495\n"
            ],
            "text/html": [
              "<pre style=\"white-space:pre;overflow-x:auto;line-height:normal;font-family:Menlo,'DejaVu Sans Mono',consolas,'Courier New',monospace\">19:12:11.959 | <span style=\"color: #008080; text-decoration-color: #008080\">INFO</span>    | Task run 'train_best_model-0' - [73]   validation-rmse:5.38495\n",
              "</pre>\n"
            ]
          },
          "metadata": {}
        },
        {
          "output_type": "display_data",
          "data": {
            "text/plain": [
              "19:12:12.061 | \u001b[36mINFO\u001b[0m    | Task run 'train_best_model-0' - [74]   validation-rmse:5.38442\n"
            ],
            "text/html": [
              "<pre style=\"white-space:pre;overflow-x:auto;line-height:normal;font-family:Menlo,'DejaVu Sans Mono',consolas,'Courier New',monospace\">19:12:12.061 | <span style=\"color: #008080; text-decoration-color: #008080\">INFO</span>    | Task run 'train_best_model-0' - [74]   validation-rmse:5.38442\n",
              "</pre>\n"
            ]
          },
          "metadata": {}
        },
        {
          "output_type": "display_data",
          "data": {
            "text/plain": [
              "19:12:12.167 | \u001b[36mINFO\u001b[0m    | Task run 'train_best_model-0' - [75]   validation-rmse:5.38382\n"
            ],
            "text/html": [
              "<pre style=\"white-space:pre;overflow-x:auto;line-height:normal;font-family:Menlo,'DejaVu Sans Mono',consolas,'Courier New',monospace\">19:12:12.167 | <span style=\"color: #008080; text-decoration-color: #008080\">INFO</span>    | Task run 'train_best_model-0' - [75]   validation-rmse:5.38382\n",
              "</pre>\n"
            ]
          },
          "metadata": {}
        },
        {
          "output_type": "display_data",
          "data": {
            "text/plain": [
              "19:12:12.306 | \u001b[36mINFO\u001b[0m    | Task run 'train_best_model-0' - [76]   validation-rmse:5.38359\n"
            ],
            "text/html": [
              "<pre style=\"white-space:pre;overflow-x:auto;line-height:normal;font-family:Menlo,'DejaVu Sans Mono',consolas,'Courier New',monospace\">19:12:12.306 | <span style=\"color: #008080; text-decoration-color: #008080\">INFO</span>    | Task run 'train_best_model-0' - [76]   validation-rmse:5.38359\n",
              "</pre>\n"
            ]
          },
          "metadata": {}
        },
        {
          "output_type": "display_data",
          "data": {
            "text/plain": [
              "19:12:12.406 | \u001b[36mINFO\u001b[0m    | Task run 'train_best_model-0' - [77]   validation-rmse:5.38310\n"
            ],
            "text/html": [
              "<pre style=\"white-space:pre;overflow-x:auto;line-height:normal;font-family:Menlo,'DejaVu Sans Mono',consolas,'Courier New',monospace\">19:12:12.406 | <span style=\"color: #008080; text-decoration-color: #008080\">INFO</span>    | Task run 'train_best_model-0' - [77]   validation-rmse:5.38310\n",
              "</pre>\n"
            ]
          },
          "metadata": {}
        },
        {
          "output_type": "display_data",
          "data": {
            "text/plain": [
              "19:12:12.510 | \u001b[36mINFO\u001b[0m    | Task run 'train_best_model-0' - [78]   validation-rmse:5.38273\n"
            ],
            "text/html": [
              "<pre style=\"white-space:pre;overflow-x:auto;line-height:normal;font-family:Menlo,'DejaVu Sans Mono',consolas,'Courier New',monospace\">19:12:12.510 | <span style=\"color: #008080; text-decoration-color: #008080\">INFO</span>    | Task run 'train_best_model-0' - [78]   validation-rmse:5.38273\n",
              "</pre>\n"
            ]
          },
          "metadata": {}
        },
        {
          "output_type": "display_data",
          "data": {
            "text/plain": [
              "19:12:12.617 | \u001b[36mINFO\u001b[0m    | Task run 'train_best_model-0' - [79]   validation-rmse:5.38246\n"
            ],
            "text/html": [
              "<pre style=\"white-space:pre;overflow-x:auto;line-height:normal;font-family:Menlo,'DejaVu Sans Mono',consolas,'Courier New',monospace\">19:12:12.617 | <span style=\"color: #008080; text-decoration-color: #008080\">INFO</span>    | Task run 'train_best_model-0' - [79]   validation-rmse:5.38246\n",
              "</pre>\n"
            ]
          },
          "metadata": {}
        },
        {
          "output_type": "display_data",
          "data": {
            "text/plain": [
              "19:12:12.730 | \u001b[36mINFO\u001b[0m    | Task run 'train_best_model-0' - [80]   validation-rmse:5.38223\n"
            ],
            "text/html": [
              "<pre style=\"white-space:pre;overflow-x:auto;line-height:normal;font-family:Menlo,'DejaVu Sans Mono',consolas,'Courier New',monospace\">19:12:12.730 | <span style=\"color: #008080; text-decoration-color: #008080\">INFO</span>    | Task run 'train_best_model-0' - [80]   validation-rmse:5.38223\n",
              "</pre>\n"
            ]
          },
          "metadata": {}
        },
        {
          "output_type": "display_data",
          "data": {
            "text/plain": [
              "19:12:12.853 | \u001b[36mINFO\u001b[0m    | Task run 'train_best_model-0' - [81]   validation-rmse:5.38196\n"
            ],
            "text/html": [
              "<pre style=\"white-space:pre;overflow-x:auto;line-height:normal;font-family:Menlo,'DejaVu Sans Mono',consolas,'Courier New',monospace\">19:12:12.853 | <span style=\"color: #008080; text-decoration-color: #008080\">INFO</span>    | Task run 'train_best_model-0' - [81]   validation-rmse:5.38196\n",
              "</pre>\n"
            ]
          },
          "metadata": {}
        },
        {
          "output_type": "display_data",
          "data": {
            "text/plain": [
              "19:12:12.966 | \u001b[36mINFO\u001b[0m    | Task run 'train_best_model-0' - [82]   validation-rmse:5.38102\n"
            ],
            "text/html": [
              "<pre style=\"white-space:pre;overflow-x:auto;line-height:normal;font-family:Menlo,'DejaVu Sans Mono',consolas,'Courier New',monospace\">19:12:12.966 | <span style=\"color: #008080; text-decoration-color: #008080\">INFO</span>    | Task run 'train_best_model-0' - [82]   validation-rmse:5.38102\n",
              "</pre>\n"
            ]
          },
          "metadata": {}
        },
        {
          "output_type": "display_data",
          "data": {
            "text/plain": [
              "19:12:13.077 | \u001b[36mINFO\u001b[0m    | Task run 'train_best_model-0' - [83]   validation-rmse:5.38055\n"
            ],
            "text/html": [
              "<pre style=\"white-space:pre;overflow-x:auto;line-height:normal;font-family:Menlo,'DejaVu Sans Mono',consolas,'Courier New',monospace\">19:12:13.077 | <span style=\"color: #008080; text-decoration-color: #008080\">INFO</span>    | Task run 'train_best_model-0' - [83]   validation-rmse:5.38055\n",
              "</pre>\n"
            ]
          },
          "metadata": {}
        },
        {
          "output_type": "display_data",
          "data": {
            "text/plain": [
              "19:12:13.180 | \u001b[36mINFO\u001b[0m    | Task run 'train_best_model-0' - [84]   validation-rmse:5.38044\n"
            ],
            "text/html": [
              "<pre style=\"white-space:pre;overflow-x:auto;line-height:normal;font-family:Menlo,'DejaVu Sans Mono',consolas,'Courier New',monospace\">19:12:13.180 | <span style=\"color: #008080; text-decoration-color: #008080\">INFO</span>    | Task run 'train_best_model-0' - [84]   validation-rmse:5.38044\n",
              "</pre>\n"
            ]
          },
          "metadata": {}
        },
        {
          "output_type": "display_data",
          "data": {
            "text/plain": [
              "19:12:13.299 | \u001b[36mINFO\u001b[0m    | Task run 'train_best_model-0' - [85]   validation-rmse:5.38019\n"
            ],
            "text/html": [
              "<pre style=\"white-space:pre;overflow-x:auto;line-height:normal;font-family:Menlo,'DejaVu Sans Mono',consolas,'Courier New',monospace\">19:12:13.299 | <span style=\"color: #008080; text-decoration-color: #008080\">INFO</span>    | Task run 'train_best_model-0' - [85]   validation-rmse:5.38019\n",
              "</pre>\n"
            ]
          },
          "metadata": {}
        },
        {
          "output_type": "display_data",
          "data": {
            "text/plain": [
              "19:12:13.417 | \u001b[36mINFO\u001b[0m    | Task run 'train_best_model-0' - [86]   validation-rmse:5.37990\n"
            ],
            "text/html": [
              "<pre style=\"white-space:pre;overflow-x:auto;line-height:normal;font-family:Menlo,'DejaVu Sans Mono',consolas,'Courier New',monospace\">19:12:13.417 | <span style=\"color: #008080; text-decoration-color: #008080\">INFO</span>    | Task run 'train_best_model-0' - [86]   validation-rmse:5.37990\n",
              "</pre>\n"
            ]
          },
          "metadata": {}
        },
        {
          "output_type": "display_data",
          "data": {
            "text/plain": [
              "19:12:13.526 | \u001b[36mINFO\u001b[0m    | Task run 'train_best_model-0' - [87]   validation-rmse:5.37936\n"
            ],
            "text/html": [
              "<pre style=\"white-space:pre;overflow-x:auto;line-height:normal;font-family:Menlo,'DejaVu Sans Mono',consolas,'Courier New',monospace\">19:12:13.526 | <span style=\"color: #008080; text-decoration-color: #008080\">INFO</span>    | Task run 'train_best_model-0' - [87]   validation-rmse:5.37936\n",
              "</pre>\n"
            ]
          },
          "metadata": {}
        },
        {
          "output_type": "display_data",
          "data": {
            "text/plain": [
              "19:12:13.624 | \u001b[36mINFO\u001b[0m    | Task run 'train_best_model-0' - [88]   validation-rmse:5.37883\n"
            ],
            "text/html": [
              "<pre style=\"white-space:pre;overflow-x:auto;line-height:normal;font-family:Menlo,'DejaVu Sans Mono',consolas,'Courier New',monospace\">19:12:13.624 | <span style=\"color: #008080; text-decoration-color: #008080\">INFO</span>    | Task run 'train_best_model-0' - [88]   validation-rmse:5.37883\n",
              "</pre>\n"
            ]
          },
          "metadata": {}
        },
        {
          "output_type": "display_data",
          "data": {
            "text/plain": [
              "19:12:13.732 | \u001b[36mINFO\u001b[0m    | Task run 'train_best_model-0' - [89]   validation-rmse:5.37832\n"
            ],
            "text/html": [
              "<pre style=\"white-space:pre;overflow-x:auto;line-height:normal;font-family:Menlo,'DejaVu Sans Mono',consolas,'Courier New',monospace\">19:12:13.732 | <span style=\"color: #008080; text-decoration-color: #008080\">INFO</span>    | Task run 'train_best_model-0' - [89]   validation-rmse:5.37832\n",
              "</pre>\n"
            ]
          },
          "metadata": {}
        },
        {
          "output_type": "display_data",
          "data": {
            "text/plain": [
              "19:12:13.837 | \u001b[36mINFO\u001b[0m    | Task run 'train_best_model-0' - [90]   validation-rmse:5.37805\n"
            ],
            "text/html": [
              "<pre style=\"white-space:pre;overflow-x:auto;line-height:normal;font-family:Menlo,'DejaVu Sans Mono',consolas,'Courier New',monospace\">19:12:13.837 | <span style=\"color: #008080; text-decoration-color: #008080\">INFO</span>    | Task run 'train_best_model-0' - [90]   validation-rmse:5.37805\n",
              "</pre>\n"
            ]
          },
          "metadata": {}
        },
        {
          "output_type": "display_data",
          "data": {
            "text/plain": [
              "19:12:13.940 | \u001b[36mINFO\u001b[0m    | Task run 'train_best_model-0' - [91]   validation-rmse:5.37788\n"
            ],
            "text/html": [
              "<pre style=\"white-space:pre;overflow-x:auto;line-height:normal;font-family:Menlo,'DejaVu Sans Mono',consolas,'Courier New',monospace\">19:12:13.940 | <span style=\"color: #008080; text-decoration-color: #008080\">INFO</span>    | Task run 'train_best_model-0' - [91]   validation-rmse:5.37788\n",
              "</pre>\n"
            ]
          },
          "metadata": {}
        },
        {
          "output_type": "display_data",
          "data": {
            "text/plain": [
              "19:12:14.051 | \u001b[36mINFO\u001b[0m    | Task run 'train_best_model-0' - [92]   validation-rmse:5.37722\n"
            ],
            "text/html": [
              "<pre style=\"white-space:pre;overflow-x:auto;line-height:normal;font-family:Menlo,'DejaVu Sans Mono',consolas,'Courier New',monospace\">19:12:14.051 | <span style=\"color: #008080; text-decoration-color: #008080\">INFO</span>    | Task run 'train_best_model-0' - [92]   validation-rmse:5.37722\n",
              "</pre>\n"
            ]
          },
          "metadata": {}
        },
        {
          "output_type": "display_data",
          "data": {
            "text/plain": [
              "19:12:14.169 | \u001b[36mINFO\u001b[0m    | Task run 'train_best_model-0' - [93]   validation-rmse:5.37667\n"
            ],
            "text/html": [
              "<pre style=\"white-space:pre;overflow-x:auto;line-height:normal;font-family:Menlo,'DejaVu Sans Mono',consolas,'Courier New',monospace\">19:12:14.169 | <span style=\"color: #008080; text-decoration-color: #008080\">INFO</span>    | Task run 'train_best_model-0' - [93]   validation-rmse:5.37667\n",
              "</pre>\n"
            ]
          },
          "metadata": {}
        },
        {
          "output_type": "display_data",
          "data": {
            "text/plain": [
              "19:12:14.297 | \u001b[36mINFO\u001b[0m    | Task run 'train_best_model-0' - [94]   validation-rmse:5.37631\n"
            ],
            "text/html": [
              "<pre style=\"white-space:pre;overflow-x:auto;line-height:normal;font-family:Menlo,'DejaVu Sans Mono',consolas,'Courier New',monospace\">19:12:14.297 | <span style=\"color: #008080; text-decoration-color: #008080\">INFO</span>    | Task run 'train_best_model-0' - [94]   validation-rmse:5.37631\n",
              "</pre>\n"
            ]
          },
          "metadata": {}
        },
        {
          "output_type": "display_data",
          "data": {
            "text/plain": [
              "19:12:14.404 | \u001b[36mINFO\u001b[0m    | Task run 'train_best_model-0' - [95]   validation-rmse:5.37589\n"
            ],
            "text/html": [
              "<pre style=\"white-space:pre;overflow-x:auto;line-height:normal;font-family:Menlo,'DejaVu Sans Mono',consolas,'Courier New',monospace\">19:12:14.404 | <span style=\"color: #008080; text-decoration-color: #008080\">INFO</span>    | Task run 'train_best_model-0' - [95]   validation-rmse:5.37589\n",
              "</pre>\n"
            ]
          },
          "metadata": {}
        },
        {
          "output_type": "display_data",
          "data": {
            "text/plain": [
              "19:12:14.505 | \u001b[36mINFO\u001b[0m    | Task run 'train_best_model-0' - [96]   validation-rmse:5.37561\n"
            ],
            "text/html": [
              "<pre style=\"white-space:pre;overflow-x:auto;line-height:normal;font-family:Menlo,'DejaVu Sans Mono',consolas,'Courier New',monospace\">19:12:14.505 | <span style=\"color: #008080; text-decoration-color: #008080\">INFO</span>    | Task run 'train_best_model-0' - [96]   validation-rmse:5.37561\n",
              "</pre>\n"
            ]
          },
          "metadata": {}
        },
        {
          "output_type": "display_data",
          "data": {
            "text/plain": [
              "19:12:14.620 | \u001b[36mINFO\u001b[0m    | Task run 'train_best_model-0' - [97]   validation-rmse:5.37512\n"
            ],
            "text/html": [
              "<pre style=\"white-space:pre;overflow-x:auto;line-height:normal;font-family:Menlo,'DejaVu Sans Mono',consolas,'Courier New',monospace\">19:12:14.620 | <span style=\"color: #008080; text-decoration-color: #008080\">INFO</span>    | Task run 'train_best_model-0' - [97]   validation-rmse:5.37512\n",
              "</pre>\n"
            ]
          },
          "metadata": {}
        },
        {
          "output_type": "display_data",
          "data": {
            "text/plain": [
              "19:12:14.729 | \u001b[36mINFO\u001b[0m    | Task run 'train_best_model-0' - [98]   validation-rmse:5.37468\n"
            ],
            "text/html": [
              "<pre style=\"white-space:pre;overflow-x:auto;line-height:normal;font-family:Menlo,'DejaVu Sans Mono',consolas,'Courier New',monospace\">19:12:14.729 | <span style=\"color: #008080; text-decoration-color: #008080\">INFO</span>    | Task run 'train_best_model-0' - [98]   validation-rmse:5.37468\n",
              "</pre>\n"
            ]
          },
          "metadata": {}
        },
        {
          "output_type": "display_data",
          "data": {
            "text/plain": [
              "19:12:14.832 | \u001b[36mINFO\u001b[0m    | Task run 'train_best_model-0' - [99]   validation-rmse:5.37450\n"
            ],
            "text/html": [
              "<pre style=\"white-space:pre;overflow-x:auto;line-height:normal;font-family:Menlo,'DejaVu Sans Mono',consolas,'Courier New',monospace\">19:12:14.832 | <span style=\"color: #008080; text-decoration-color: #008080\">INFO</span>    | Task run 'train_best_model-0' - [99]   validation-rmse:5.37450\n",
              "</pre>\n"
            ]
          },
          "metadata": {}
        },
        {
          "output_type": "display_data",
          "data": {
            "text/plain": [
              "19:12:18.657 | \u001b[36mINFO\u001b[0m    | Task run 'train_best_model-0' - Finished in state \u001b[32mCompleted\u001b[0m()\n"
            ],
            "text/html": [
              "<pre style=\"white-space:pre;overflow-x:auto;line-height:normal;font-family:Menlo,'DejaVu Sans Mono',consolas,'Courier New',monospace\">19:12:18.657 | <span style=\"color: #008080; text-decoration-color: #008080\">INFO</span>    | Task run 'train_best_model-0' - Finished in state <span style=\"color: #008000; text-decoration-color: #008000\">Completed</span>()\n",
              "</pre>\n"
            ]
          },
          "metadata": {}
        },
        {
          "output_type": "display_data",
          "data": {
            "text/plain": [
              "19:12:18.722 | \u001b[36mINFO\u001b[0m    | Flow run\u001b[35m 'enigmatic-dragonfly'\u001b[0m - Finished in state \u001b[32mCompleted\u001b[0m('All states completed.')\n"
            ],
            "text/html": [
              "<pre style=\"white-space:pre;overflow-x:auto;line-height:normal;font-family:Menlo,'DejaVu Sans Mono',consolas,'Courier New',monospace\">19:12:18.722 | <span style=\"color: #008080; text-decoration-color: #008080\">INFO</span>    | Flow run<span style=\"color: #800080; text-decoration-color: #800080\"> 'enigmatic-dragonfly'</span> - Finished in state <span style=\"color: #008000; text-decoration-color: #008000\">Completed</span>('All states completed.')\n",
              "</pre>\n"
            ]
          },
          "metadata": {}
        }
      ]
    }
  ]
}